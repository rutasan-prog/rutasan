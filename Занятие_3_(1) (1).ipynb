{
  "cells": [
    {
      "cell_type": "markdown",
      "metadata": {
        "id": "2_toZQHkcSAM"
      },
      "source": [
        "Итак, перед тем, как браться за статистику, нужно:\n",
        "\n",
        "**1. Прочесть исходный файл и превратить его в структуру данных**\n",
        "\n",
        "К заданию прилагается файл в формате csv, где все значения разделены запятыми. Это наши исходные данные. Чтобы применить к ним все возможности языка Python и библиотеки Pandas, надо импортировать эту библиотеку и сохранить её в переменной. По сокращённому названию панельных данных (panel data), с которых начиналась Pandas, эту переменную принято называть pd:\n",
        "\n",
        "**import pandas as pd**\n",
        "\n",
        "Для чтения csv-файла в библиотеке Pandas есть готовая функция — метод **read_csv()**. Как и все методы, он вызывается записью через точку после имени своего объекта. В скобках указывается аргумент (параметр) метода. У read_csv() это имя файла с данными. Прочтение превращает файл в структуру данных DataFrame. Имя переменной, в которой эта структура данных сохраняется, чаще всего df либо отражает тематику данных:\n",
        "\n",
        "**df = pd.read_csv('music_log.csv')**\n",
        "\n",
        "**2. Посмотреть на данные**\n",
        "\n",
        "Вывести на экран таблицу и оценить данные:\n",
        "\n",
        "print(df)\n",
        "Как правило, таблица очень велика. Практичнее запросить определённое количество первых строк, методом head().\n",
        "\n",
        "**3. Оценить качество предподготовки**\n",
        "\n",
        "Нужно убедиться в том, что данные прошли предподготовку. По крайней мере, не должно быть пропусков и повторов. Пропущенные и неопределённые значения выявляет метод **isna()**, а суммарное количество таких значений — метод **sum()**.\n",
        "\n",
        "**print(df.isna().sum())**\n",
        "\n",
        "\n",
        "Повторяющиеся строки — дубликаты — выявляются методом **duplicated()** и подсчитываются тем же sum():\n",
        "\n",
        "**print(df.duplicated().sum())**\n",
        "Если возвращаются нули, всё хорошо — данные пригодны для исследования.\n"
      ]
    },
    {
      "cell_type": "code",
      "source": [
        "import pandas as pd\n",
        "df = pd.read_csv('music_log.csv')"
      ],
      "metadata": {
        "id": "T32qfJdfc5KQ"
      },
      "execution_count": null,
      "outputs": []
    },
    {
      "cell_type": "markdown",
      "metadata": {
        "id": "Dp9nT4i-cSAO"
      },
      "source": [
        "## Задача\n",
        "\n",
        "1. Загрузите таблицу **exoplanet_catalog**, содержащую данные о планетах за пределами Солнечной системы, или экзопланетах. Сформируйте из данной таблицы новый датасет под назанием **exoplanet**, коорая будет содердать стоблцы name, mass, radius, discovered. Проверьте, чтобы название всех столбцов было корректным, при необходмости измените названия.\n",
        "\n",
        "2. Удалите из получившейся таблица строки с нулевыми значениями.\n",
        "\n",
        "3. Убедитесь, что таблица не содержит ни пропущенных значений, ни дубликатов."
      ]
    },
    {
      "cell_type": "code",
      "execution_count": 32,
      "metadata": {
        "colab": {
          "base_uri": "https://localhost:8080/"
        },
        "id": "cMDDztfmcSAO",
        "outputId": "c7017421-6df3-4b28-caf3-99448966b8be"
      },
      "outputs": [
        {
          "output_type": "stream",
          "name": "stdout",
          "text": [
            "                name  mass  radius  discovered\n",
            "10       1RXS 1609 b  14.0    1.70      2008.0\n",
            "18      2M 0122-24 b  20.0    1.00      2013.0\n",
            "19      2M 0219-39 b  13.9    1.44      2015.0\n",
            "22      2M 2140+16 b  20.0    0.92      2010.0\n",
            "23      2M 2206-20 b  30.0    1.30      2010.0\n",
            "33         2M1510A a  40.0    1.57      2020.0\n",
            "34         2M1510A b  39.3    1.57      2020.0\n",
            "41  2MASS J0348-6022  43.0    0.91      2021.0\n",
            "42  2MASS J0407+1546  67.0    0.97      2021.0\n",
            "48  2MASS J1219+3128  49.0    0.97      2021.0\n"
          ]
        }
      ],
      "source": [
        "import pandas as pd\n",
        "\n",
        "exoplanet = pd.read_csv('exoplanet_catalog.csv')\n",
        "\n",
        "exoplanet = exoplanet[['# name', 'mass', 'radius', 'discovered']]\n",
        "new_names_columns = ['name', 'mass', 'radius', 'discovered']\n",
        "exoplanet.columns = new_names_columns\n",
        "exoplanet.dropna(inplace=True)\n",
        "\n",
        "\n",
        "exoplanet.drop_duplicates(inplace=True)\n",
        "\n",
        "print(exoplanet.head(10))\n"
      ]
    },
    {
      "cell_type": "markdown",
      "metadata": {
        "id": "PkAnoC0KcSAP"
      },
      "source": [
        "# Группировка данных\n",
        "\n",
        "Слово «анализ» означает разбор, рассмотрение с разных сторон. Анализ данных начинают с разделения их на группы по какому-нибудь признаку. Эта операция называется группировка данных. Она помогает изучить материал более подробно, чтобы затем перейти к поиску взаимосвязей между отдельными группами.\n",
        "\n",
        "\n",
        "Группировка оправданна, если данные чётко делятся по значимому признаку, а полученные группы близки к теме задачи. Например, когда есть данные обо всех покупках в супермаркете, можно смело заниматься группировкой. Так можно установить время наплыва покупателей и решить проблему пиковых нагрузок. Или посчитать средний чек — обычно для магазинов это ключевая метрика.\n",
        "\n",
        "\n",
        "Стадии группировки хорошо укладываются в словесную формулу **split-apply-combine**:\n",
        "\n",
        "•\tразделить, **split** — разбиение на группы по определённому критерию;\n",
        "\n",
        "•\tприменить, **apply** — применение какого-либо метода к каждой группе в отдельности, например, подсчёт численности группы методом count() или суммирование вызовом sum();\n",
        "\n",
        "•\tобъединить, **combine** — сведение результатов в новую структуру данных, в зависимости от условий разделения и выполнения метода это бывает DataFrame и Series.\n",
        "\n",
        "В библиотеке Pandas есть отличные инструменты группировки. Рассмотрим обращение с ними на примере анализа данных о планетах за пределами Солнечной системы, или экзопланетах. Орбитальные обсерватории засекли уже тысячи таких небесных тел. Их выявляют на снимках космических телескопов наши коллеги, аналитики данных. Поищем среди экзопланет похожие на Землю. Возможно, это наши будущие колонии, или там уже обитают разумные существа, с которыми однажды предстоит установить контакт.\n",
        "\n",
        "DataFrame с данными по нескольким тысячам экзопланет сохранён в переменной **exoplanet**. Посмотрим на первые 30 строк таблицы:\n"
      ]
    },
    {
      "cell_type": "code",
      "execution_count": 9,
      "metadata": {
        "colab": {
          "base_uri": "https://localhost:8080/",
          "height": 990
        },
        "id": "K6XSvUNTcSAP",
        "outputId": "17bd3343-3a51-4084-ae65-04cd807f72e6"
      },
      "outputs": [
        {
          "output_type": "execute_result",
          "data": {
            "text/plain": [
              "               # name      mass  radius  discovered\n",
              "10        1RXS 1609 b  14.00000  1.7000      2008.0\n",
              "18       2M 0122-24 b  20.00000  1.0000      2013.0\n",
              "19       2M 0219-39 b  13.90000  1.4400      2015.0\n",
              "22       2M 2140+16 b  20.00000  0.9200      2010.0\n",
              "23       2M 2206-20 b  30.00000  1.3000      2010.0\n",
              "33          2M1510A a  40.00000  1.5700      2020.0\n",
              "34          2M1510A b  39.30000  1.5700      2020.0\n",
              "41   2MASS J0348-6022  43.00000  0.9100      2021.0\n",
              "42   2MASS J0407+1546  67.00000  0.9700      2021.0\n",
              "48   2MASS J1219+3128  49.00000  0.9700      2021.0\n",
              "63           51 Eri b   2.60000  1.1100      2015.0\n",
              "64           51 Peg b   0.47000  1.9000      1995.0\n",
              "68           55 Cnc e   0.02703  0.1737      2004.0\n",
              "83          AD 3116 b  54.20000  1.0200      2017.0\n",
              "85           AU Mic b   0.05300  0.3908      2020.0\n",
              "86           AU Mic c   0.04630  0.3131      2020.0\n",
              "94        BD+20 594 b   0.07000  0.2300      2016.0\n",
              "121      COCONUTS-2 b   6.40000  1.1200      2021.0\n",
              "122          CT Cha b  17.00000  2.2000      2008.0\n",
              "126         CoRoT-1 b   1.03000  1.4900      2007.0\n",
              "127        CoRoT-10 b   2.75000  0.9700      2010.0\n",
              "128        CoRoT-11 b   2.33000  1.4300      2010.0\n",
              "129        CoRoT-12 b   0.91700  1.4400      2010.0\n",
              "130        CoRoT-13 b   1.30800  0.8850      2010.0\n",
              "131        CoRoT-14 b   7.60000  1.0900      2010.0\n",
              "132        CoRoT-15 b  63.40000  1.1200      2010.0\n",
              "133        CoRoT-16 b   0.53500  1.1700      2010.0\n",
              "134        CoRoT-17 b   2.43000  1.0200      2010.0\n",
              "135        CoRoT-18 b   3.47000  1.3100      2011.0\n",
              "136        CoRoT-19 b   1.11000  1.2900      2011.0"
            ],
            "text/html": [
              "\n",
              "  <div id=\"df-7d08cdf1-2492-47ce-beb9-ad031589bb2a\" class=\"colab-df-container\">\n",
              "    <div>\n",
              "<style scoped>\n",
              "    .dataframe tbody tr th:only-of-type {\n",
              "        vertical-align: middle;\n",
              "    }\n",
              "\n",
              "    .dataframe tbody tr th {\n",
              "        vertical-align: top;\n",
              "    }\n",
              "\n",
              "    .dataframe thead th {\n",
              "        text-align: right;\n",
              "    }\n",
              "</style>\n",
              "<table border=\"1\" class=\"dataframe\">\n",
              "  <thead>\n",
              "    <tr style=\"text-align: right;\">\n",
              "      <th></th>\n",
              "      <th># name</th>\n",
              "      <th>mass</th>\n",
              "      <th>radius</th>\n",
              "      <th>discovered</th>\n",
              "    </tr>\n",
              "  </thead>\n",
              "  <tbody>\n",
              "    <tr>\n",
              "      <th>10</th>\n",
              "      <td>1RXS 1609 b</td>\n",
              "      <td>14.00000</td>\n",
              "      <td>1.7000</td>\n",
              "      <td>2008.0</td>\n",
              "    </tr>\n",
              "    <tr>\n",
              "      <th>18</th>\n",
              "      <td>2M 0122-24 b</td>\n",
              "      <td>20.00000</td>\n",
              "      <td>1.0000</td>\n",
              "      <td>2013.0</td>\n",
              "    </tr>\n",
              "    <tr>\n",
              "      <th>19</th>\n",
              "      <td>2M 0219-39 b</td>\n",
              "      <td>13.90000</td>\n",
              "      <td>1.4400</td>\n",
              "      <td>2015.0</td>\n",
              "    </tr>\n",
              "    <tr>\n",
              "      <th>22</th>\n",
              "      <td>2M 2140+16 b</td>\n",
              "      <td>20.00000</td>\n",
              "      <td>0.9200</td>\n",
              "      <td>2010.0</td>\n",
              "    </tr>\n",
              "    <tr>\n",
              "      <th>23</th>\n",
              "      <td>2M 2206-20 b</td>\n",
              "      <td>30.00000</td>\n",
              "      <td>1.3000</td>\n",
              "      <td>2010.0</td>\n",
              "    </tr>\n",
              "    <tr>\n",
              "      <th>33</th>\n",
              "      <td>2M1510A a</td>\n",
              "      <td>40.00000</td>\n",
              "      <td>1.5700</td>\n",
              "      <td>2020.0</td>\n",
              "    </tr>\n",
              "    <tr>\n",
              "      <th>34</th>\n",
              "      <td>2M1510A b</td>\n",
              "      <td>39.30000</td>\n",
              "      <td>1.5700</td>\n",
              "      <td>2020.0</td>\n",
              "    </tr>\n",
              "    <tr>\n",
              "      <th>41</th>\n",
              "      <td>2MASS J0348-6022</td>\n",
              "      <td>43.00000</td>\n",
              "      <td>0.9100</td>\n",
              "      <td>2021.0</td>\n",
              "    </tr>\n",
              "    <tr>\n",
              "      <th>42</th>\n",
              "      <td>2MASS J0407+1546</td>\n",
              "      <td>67.00000</td>\n",
              "      <td>0.9700</td>\n",
              "      <td>2021.0</td>\n",
              "    </tr>\n",
              "    <tr>\n",
              "      <th>48</th>\n",
              "      <td>2MASS J1219+3128</td>\n",
              "      <td>49.00000</td>\n",
              "      <td>0.9700</td>\n",
              "      <td>2021.0</td>\n",
              "    </tr>\n",
              "    <tr>\n",
              "      <th>63</th>\n",
              "      <td>51 Eri b</td>\n",
              "      <td>2.60000</td>\n",
              "      <td>1.1100</td>\n",
              "      <td>2015.0</td>\n",
              "    </tr>\n",
              "    <tr>\n",
              "      <th>64</th>\n",
              "      <td>51 Peg b</td>\n",
              "      <td>0.47000</td>\n",
              "      <td>1.9000</td>\n",
              "      <td>1995.0</td>\n",
              "    </tr>\n",
              "    <tr>\n",
              "      <th>68</th>\n",
              "      <td>55 Cnc e</td>\n",
              "      <td>0.02703</td>\n",
              "      <td>0.1737</td>\n",
              "      <td>2004.0</td>\n",
              "    </tr>\n",
              "    <tr>\n",
              "      <th>83</th>\n",
              "      <td>AD 3116 b</td>\n",
              "      <td>54.20000</td>\n",
              "      <td>1.0200</td>\n",
              "      <td>2017.0</td>\n",
              "    </tr>\n",
              "    <tr>\n",
              "      <th>85</th>\n",
              "      <td>AU Mic b</td>\n",
              "      <td>0.05300</td>\n",
              "      <td>0.3908</td>\n",
              "      <td>2020.0</td>\n",
              "    </tr>\n",
              "    <tr>\n",
              "      <th>86</th>\n",
              "      <td>AU Mic c</td>\n",
              "      <td>0.04630</td>\n",
              "      <td>0.3131</td>\n",
              "      <td>2020.0</td>\n",
              "    </tr>\n",
              "    <tr>\n",
              "      <th>94</th>\n",
              "      <td>BD+20 594 b</td>\n",
              "      <td>0.07000</td>\n",
              "      <td>0.2300</td>\n",
              "      <td>2016.0</td>\n",
              "    </tr>\n",
              "    <tr>\n",
              "      <th>121</th>\n",
              "      <td>COCONUTS-2 b</td>\n",
              "      <td>6.40000</td>\n",
              "      <td>1.1200</td>\n",
              "      <td>2021.0</td>\n",
              "    </tr>\n",
              "    <tr>\n",
              "      <th>122</th>\n",
              "      <td>CT Cha b</td>\n",
              "      <td>17.00000</td>\n",
              "      <td>2.2000</td>\n",
              "      <td>2008.0</td>\n",
              "    </tr>\n",
              "    <tr>\n",
              "      <th>126</th>\n",
              "      <td>CoRoT-1 b</td>\n",
              "      <td>1.03000</td>\n",
              "      <td>1.4900</td>\n",
              "      <td>2007.0</td>\n",
              "    </tr>\n",
              "    <tr>\n",
              "      <th>127</th>\n",
              "      <td>CoRoT-10 b</td>\n",
              "      <td>2.75000</td>\n",
              "      <td>0.9700</td>\n",
              "      <td>2010.0</td>\n",
              "    </tr>\n",
              "    <tr>\n",
              "      <th>128</th>\n",
              "      <td>CoRoT-11 b</td>\n",
              "      <td>2.33000</td>\n",
              "      <td>1.4300</td>\n",
              "      <td>2010.0</td>\n",
              "    </tr>\n",
              "    <tr>\n",
              "      <th>129</th>\n",
              "      <td>CoRoT-12 b</td>\n",
              "      <td>0.91700</td>\n",
              "      <td>1.4400</td>\n",
              "      <td>2010.0</td>\n",
              "    </tr>\n",
              "    <tr>\n",
              "      <th>130</th>\n",
              "      <td>CoRoT-13 b</td>\n",
              "      <td>1.30800</td>\n",
              "      <td>0.8850</td>\n",
              "      <td>2010.0</td>\n",
              "    </tr>\n",
              "    <tr>\n",
              "      <th>131</th>\n",
              "      <td>CoRoT-14 b</td>\n",
              "      <td>7.60000</td>\n",
              "      <td>1.0900</td>\n",
              "      <td>2010.0</td>\n",
              "    </tr>\n",
              "    <tr>\n",
              "      <th>132</th>\n",
              "      <td>CoRoT-15 b</td>\n",
              "      <td>63.40000</td>\n",
              "      <td>1.1200</td>\n",
              "      <td>2010.0</td>\n",
              "    </tr>\n",
              "    <tr>\n",
              "      <th>133</th>\n",
              "      <td>CoRoT-16 b</td>\n",
              "      <td>0.53500</td>\n",
              "      <td>1.1700</td>\n",
              "      <td>2010.0</td>\n",
              "    </tr>\n",
              "    <tr>\n",
              "      <th>134</th>\n",
              "      <td>CoRoT-17 b</td>\n",
              "      <td>2.43000</td>\n",
              "      <td>1.0200</td>\n",
              "      <td>2010.0</td>\n",
              "    </tr>\n",
              "    <tr>\n",
              "      <th>135</th>\n",
              "      <td>CoRoT-18 b</td>\n",
              "      <td>3.47000</td>\n",
              "      <td>1.3100</td>\n",
              "      <td>2011.0</td>\n",
              "    </tr>\n",
              "    <tr>\n",
              "      <th>136</th>\n",
              "      <td>CoRoT-19 b</td>\n",
              "      <td>1.11000</td>\n",
              "      <td>1.2900</td>\n",
              "      <td>2011.0</td>\n",
              "    </tr>\n",
              "  </tbody>\n",
              "</table>\n",
              "</div>\n",
              "    <div class=\"colab-df-buttons\">\n",
              "\n",
              "  <div class=\"colab-df-container\">\n",
              "    <button class=\"colab-df-convert\" onclick=\"convertToInteractive('df-7d08cdf1-2492-47ce-beb9-ad031589bb2a')\"\n",
              "            title=\"Convert this dataframe to an interactive table.\"\n",
              "            style=\"display:none;\">\n",
              "\n",
              "  <svg xmlns=\"http://www.w3.org/2000/svg\" height=\"24px\" viewBox=\"0 -960 960 960\">\n",
              "    <path d=\"M120-120v-720h720v720H120Zm60-500h600v-160H180v160Zm220 220h160v-160H400v160Zm0 220h160v-160H400v160ZM180-400h160v-160H180v160Zm440 0h160v-160H620v160ZM180-180h160v-160H180v160Zm440 0h160v-160H620v160Z\"/>\n",
              "  </svg>\n",
              "    </button>\n",
              "\n",
              "  <style>\n",
              "    .colab-df-container {\n",
              "      display:flex;\n",
              "      gap: 12px;\n",
              "    }\n",
              "\n",
              "    .colab-df-convert {\n",
              "      background-color: #E8F0FE;\n",
              "      border: none;\n",
              "      border-radius: 50%;\n",
              "      cursor: pointer;\n",
              "      display: none;\n",
              "      fill: #1967D2;\n",
              "      height: 32px;\n",
              "      padding: 0 0 0 0;\n",
              "      width: 32px;\n",
              "    }\n",
              "\n",
              "    .colab-df-convert:hover {\n",
              "      background-color: #E2EBFA;\n",
              "      box-shadow: 0px 1px 2px rgba(60, 64, 67, 0.3), 0px 1px 3px 1px rgba(60, 64, 67, 0.15);\n",
              "      fill: #174EA6;\n",
              "    }\n",
              "\n",
              "    .colab-df-buttons div {\n",
              "      margin-bottom: 4px;\n",
              "    }\n",
              "\n",
              "    [theme=dark] .colab-df-convert {\n",
              "      background-color: #3B4455;\n",
              "      fill: #D2E3FC;\n",
              "    }\n",
              "\n",
              "    [theme=dark] .colab-df-convert:hover {\n",
              "      background-color: #434B5C;\n",
              "      box-shadow: 0px 1px 3px 1px rgba(0, 0, 0, 0.15);\n",
              "      filter: drop-shadow(0px 1px 2px rgba(0, 0, 0, 0.3));\n",
              "      fill: #FFFFFF;\n",
              "    }\n",
              "  </style>\n",
              "\n",
              "    <script>\n",
              "      const buttonEl =\n",
              "        document.querySelector('#df-7d08cdf1-2492-47ce-beb9-ad031589bb2a button.colab-df-convert');\n",
              "      buttonEl.style.display =\n",
              "        google.colab.kernel.accessAllowed ? 'block' : 'none';\n",
              "\n",
              "      async function convertToInteractive(key) {\n",
              "        const element = document.querySelector('#df-7d08cdf1-2492-47ce-beb9-ad031589bb2a');\n",
              "        const dataTable =\n",
              "          await google.colab.kernel.invokeFunction('convertToInteractive',\n",
              "                                                    [key], {});\n",
              "        if (!dataTable) return;\n",
              "\n",
              "        const docLinkHtml = 'Like what you see? Visit the ' +\n",
              "          '<a target=\"_blank\" href=https://colab.research.google.com/notebooks/data_table.ipynb>data table notebook</a>'\n",
              "          + ' to learn more about interactive tables.';\n",
              "        element.innerHTML = '';\n",
              "        dataTable['output_type'] = 'display_data';\n",
              "        await google.colab.output.renderOutput(dataTable, element);\n",
              "        const docLink = document.createElement('div');\n",
              "        docLink.innerHTML = docLinkHtml;\n",
              "        element.appendChild(docLink);\n",
              "      }\n",
              "    </script>\n",
              "  </div>\n",
              "\n",
              "\n",
              "<div id=\"df-130d7ed5-faf6-49d7-a70c-ed2ca97249e6\">\n",
              "  <button class=\"colab-df-quickchart\" onclick=\"quickchart('df-130d7ed5-faf6-49d7-a70c-ed2ca97249e6')\"\n",
              "            title=\"Suggest charts\"\n",
              "            style=\"display:none;\">\n",
              "\n",
              "<svg xmlns=\"http://www.w3.org/2000/svg\" height=\"24px\"viewBox=\"0 0 24 24\"\n",
              "     width=\"24px\">\n",
              "    <g>\n",
              "        <path d=\"M19 3H5c-1.1 0-2 .9-2 2v14c0 1.1.9 2 2 2h14c1.1 0 2-.9 2-2V5c0-1.1-.9-2-2-2zM9 17H7v-7h2v7zm4 0h-2V7h2v10zm4 0h-2v-4h2v4z\"/>\n",
              "    </g>\n",
              "</svg>\n",
              "  </button>\n",
              "\n",
              "<style>\n",
              "  .colab-df-quickchart {\n",
              "      --bg-color: #E8F0FE;\n",
              "      --fill-color: #1967D2;\n",
              "      --hover-bg-color: #E2EBFA;\n",
              "      --hover-fill-color: #174EA6;\n",
              "      --disabled-fill-color: #AAA;\n",
              "      --disabled-bg-color: #DDD;\n",
              "  }\n",
              "\n",
              "  [theme=dark] .colab-df-quickchart {\n",
              "      --bg-color: #3B4455;\n",
              "      --fill-color: #D2E3FC;\n",
              "      --hover-bg-color: #434B5C;\n",
              "      --hover-fill-color: #FFFFFF;\n",
              "      --disabled-bg-color: #3B4455;\n",
              "      --disabled-fill-color: #666;\n",
              "  }\n",
              "\n",
              "  .colab-df-quickchart {\n",
              "    background-color: var(--bg-color);\n",
              "    border: none;\n",
              "    border-radius: 50%;\n",
              "    cursor: pointer;\n",
              "    display: none;\n",
              "    fill: var(--fill-color);\n",
              "    height: 32px;\n",
              "    padding: 0;\n",
              "    width: 32px;\n",
              "  }\n",
              "\n",
              "  .colab-df-quickchart:hover {\n",
              "    background-color: var(--hover-bg-color);\n",
              "    box-shadow: 0 1px 2px rgba(60, 64, 67, 0.3), 0 1px 3px 1px rgba(60, 64, 67, 0.15);\n",
              "    fill: var(--button-hover-fill-color);\n",
              "  }\n",
              "\n",
              "  .colab-df-quickchart-complete:disabled,\n",
              "  .colab-df-quickchart-complete:disabled:hover {\n",
              "    background-color: var(--disabled-bg-color);\n",
              "    fill: var(--disabled-fill-color);\n",
              "    box-shadow: none;\n",
              "  }\n",
              "\n",
              "  .colab-df-spinner {\n",
              "    border: 2px solid var(--fill-color);\n",
              "    border-color: transparent;\n",
              "    border-bottom-color: var(--fill-color);\n",
              "    animation:\n",
              "      spin 1s steps(1) infinite;\n",
              "  }\n",
              "\n",
              "  @keyframes spin {\n",
              "    0% {\n",
              "      border-color: transparent;\n",
              "      border-bottom-color: var(--fill-color);\n",
              "      border-left-color: var(--fill-color);\n",
              "    }\n",
              "    20% {\n",
              "      border-color: transparent;\n",
              "      border-left-color: var(--fill-color);\n",
              "      border-top-color: var(--fill-color);\n",
              "    }\n",
              "    30% {\n",
              "      border-color: transparent;\n",
              "      border-left-color: var(--fill-color);\n",
              "      border-top-color: var(--fill-color);\n",
              "      border-right-color: var(--fill-color);\n",
              "    }\n",
              "    40% {\n",
              "      border-color: transparent;\n",
              "      border-right-color: var(--fill-color);\n",
              "      border-top-color: var(--fill-color);\n",
              "    }\n",
              "    60% {\n",
              "      border-color: transparent;\n",
              "      border-right-color: var(--fill-color);\n",
              "    }\n",
              "    80% {\n",
              "      border-color: transparent;\n",
              "      border-right-color: var(--fill-color);\n",
              "      border-bottom-color: var(--fill-color);\n",
              "    }\n",
              "    90% {\n",
              "      border-color: transparent;\n",
              "      border-bottom-color: var(--fill-color);\n",
              "    }\n",
              "  }\n",
              "</style>\n",
              "\n",
              "  <script>\n",
              "    async function quickchart(key) {\n",
              "      const quickchartButtonEl =\n",
              "        document.querySelector('#' + key + ' button');\n",
              "      quickchartButtonEl.disabled = true;  // To prevent multiple clicks.\n",
              "      quickchartButtonEl.classList.add('colab-df-spinner');\n",
              "      try {\n",
              "        const charts = await google.colab.kernel.invokeFunction(\n",
              "            'suggestCharts', [key], {});\n",
              "      } catch (error) {\n",
              "        console.error('Error during call to suggestCharts:', error);\n",
              "      }\n",
              "      quickchartButtonEl.classList.remove('colab-df-spinner');\n",
              "      quickchartButtonEl.classList.add('colab-df-quickchart-complete');\n",
              "    }\n",
              "    (() => {\n",
              "      let quickchartButtonEl =\n",
              "        document.querySelector('#df-130d7ed5-faf6-49d7-a70c-ed2ca97249e6 button');\n",
              "      quickchartButtonEl.style.display =\n",
              "        google.colab.kernel.accessAllowed ? 'block' : 'none';\n",
              "    })();\n",
              "  </script>\n",
              "</div>\n",
              "    </div>\n",
              "  </div>\n"
            ],
            "application/vnd.google.colaboratory.intrinsic+json": {
              "type": "dataframe",
              "variable_name": "exoplanet",
              "summary": "{\n  \"name\": \"exoplanet\",\n  \"rows\": 1055,\n  \"fields\": [\n    {\n      \"column\": \"# name\",\n      \"properties\": {\n        \"dtype\": \"string\",\n        \"num_unique_values\": 1055,\n        \"samples\": [\n          \"HD 332231 b\",\n          \"TOI-700 d\",\n          \"TRAPPIST-1 c\"\n        ],\n        \"semantic_type\": \"\",\n        \"description\": \"\"\n      }\n    },\n    {\n      \"column\": \"mass\",\n      \"properties\": {\n        \"dtype\": \"number\",\n        \"std\": 8.815922413080324,\n        \"min\": 6.3e-05,\n        \"max\": 67.0,\n        \"num_unique_values\": 812,\n        \"samples\": [\n          53.0,\n          0.81,\n          0.0865\n        ],\n        \"semantic_type\": \"\",\n        \"description\": \"\"\n      }\n    },\n    {\n      \"column\": \"radius\",\n      \"properties\": {\n        \"dtype\": \"number\",\n        \"std\": 0.5954254831625917,\n        \"min\": 0.026,\n        \"max\": 6.52,\n        \"num_unique_values\": 685,\n        \"samples\": [\n          0.897,\n          0.1597,\n          0.12624\n        ],\n        \"semantic_type\": \"\",\n        \"description\": \"\"\n      }\n    },\n    {\n      \"column\": \"discovered\",\n      \"properties\": {\n        \"dtype\": \"number\",\n        \"std\": 4.0253625005779545,\n        \"min\": 1995.0,\n        \"max\": 2021.0,\n        \"num_unique_values\": 24,\n        \"samples\": [\n          2017.0,\n          2000.0,\n          2008.0\n        ],\n        \"semantic_type\": \"\",\n        \"description\": \"\"\n      }\n    }\n  ]\n}"
            }
          },
          "metadata": {},
          "execution_count": 9
        }
      ],
      "source": [
        "exoplanet.head(30)"
      ]
    },
    {
      "cell_type": "markdown",
      "metadata": {
        "id": "38YN12KIcSAP"
      },
      "source": [
        "**Документация**\n",
        "\n",
        "Столбцы:\n",
        "\n",
        "•\tname: название экзопланеты;\n",
        "\n",
        "•\tmass: масса в массах планеты Юпитер;\n",
        "\n",
        "•\tradius: радиус, пересчитанный в радиусах Земли;\n",
        "\n",
        "•\tdiscovered: год открытия экзопланеты.\n",
        "\n",
        "*Источник: каталог экзопланет на портале exoplanet.eu*\n",
        "\n",
        "На картинке изображен принцип **split-apply-combine** для таблицы с экзопланетами. Посмотрим, как вообще идут дела с поиском экзопланет. Сначала данные делят по группам, где каждая группа — это год. Потом метод **count()** подсчитывает численность каждой группы. В итоге получаем новую структуру данных с группами, где каждая содержит год и число открытых за этот год экзопланет.\n",
        "\n",
        "![image.png](attachment:image.png)\n",
        "\n",
        "В Рandas для группировки данных есть метод **groupby()**. Он принимает как аргумент название столбца, по которому нужно группировать. В случае с делением экзопланет по годам открытия:\n"
      ]
    },
    {
      "cell_type": "markdown",
      "metadata": {
        "id": "mzZUgSSzcSAQ"
      },
      "source": [
        "**print(exoplanet.groupby('discovered'))**\n",
        "\n",
        "**<pandas.core.groupby.DataFrameGroupBy object at 0x7fc1e1ca3400>**\n",
        "\n",
        "\n",
        "Применение метода **groupby()** к объекту типа DataFrame приводит к созданию объекта особого типа — **DataFrameGroupBy**. Это сгруппированные данные. Если применить к ним какой-нибудь метод Pandas, они станут новой структурой данных типа **DataFrame** или **Series**.\n",
        "Подсчитаем сгруппированные по годам экзопланеты методом **count()**:\n"
      ]
    },
    {
      "cell_type": "code",
      "execution_count": 15,
      "metadata": {
        "colab": {
          "base_uri": "https://localhost:8080/"
        },
        "id": "0gOttvE5cSAQ",
        "outputId": "be1da01d-9a6c-4a09-ead4-dcc102c188f3"
      },
      "outputs": [
        {
          "output_type": "stream",
          "name": "stdout",
          "text": [
            "            # name  mass  radius\n",
            "discovered                      \n",
            "1995.0           1     1       1\n",
            "1996.0           1     1       1\n",
            "1999.0           1     1       1\n",
            "2000.0           2     2       2\n",
            "2001.0           1     1       1\n",
            "2002.0           1     1       1\n",
            "2004.0           7     7       7\n",
            "2005.0           4     4       4\n",
            "2006.0          10    10      10\n",
            "2007.0          19    19      19\n",
            "2008.0          25    25      25\n",
            "2009.0          15    15      15\n",
            "2010.0          57    57      57\n",
            "2011.0          96    96      96\n",
            "2012.0          73    73      73\n",
            "2013.0          96    96      96\n",
            "2014.0         105   105     105\n",
            "2015.0          57    57      57\n",
            "2016.0         106   106     106\n",
            "2017.0          63    63      63\n",
            "2018.0         114   114     114\n",
            "2019.0          71    71      71\n",
            "2020.0          88    88      88\n",
            "2021.0          42    42      42\n"
          ]
        }
      ],
      "source": [
        "print(exoplanet.groupby('discovered').count())"
      ]
    },
    {
      "cell_type": "markdown",
      "metadata": {
        "id": "xhPw7mWCcSAQ"
      },
      "source": [
        "Если нужно сравнить наблюдения по одному показателю, метод применяют к **DataFrameGroupBy** с указанием на один столбец. Нас в первую очередь интересует радиус экзопланет: мы ищем другую Землю. Давайте получим таблицу с единственным столбцом 'radius':\n",
        "\n",
        "**exo_number = exoplanet.groupby('discovered')['radius'].count()**\n",
        "\n",
        "**print(exo_number)**"
      ]
    },
    {
      "cell_type": "code",
      "execution_count": 16,
      "metadata": {
        "colab": {
          "base_uri": "https://localhost:8080/"
        },
        "id": "rIwJo4r8cSAQ",
        "outputId": "4dcde045-2ce6-4862-8e95-f5891d42787f"
      },
      "outputs": [
        {
          "output_type": "stream",
          "name": "stdout",
          "text": [
            "discovered\n",
            "1995.0      1\n",
            "1996.0      1\n",
            "1999.0      1\n",
            "2000.0      2\n",
            "2001.0      1\n",
            "2002.0      1\n",
            "2004.0      7\n",
            "2005.0      4\n",
            "2006.0     10\n",
            "2007.0     19\n",
            "2008.0     25\n",
            "2009.0     15\n",
            "2010.0     57\n",
            "2011.0     96\n",
            "2012.0     73\n",
            "2013.0     96\n",
            "2014.0    105\n",
            "2015.0     57\n",
            "2016.0    106\n",
            "2017.0     63\n",
            "2018.0    114\n",
            "2019.0     71\n",
            "2020.0     88\n",
            "2021.0     42\n",
            "Name: radius, dtype: int64\n"
          ]
        }
      ],
      "source": [
        "exo_number = exoplanet.groupby('discovered')['radius'].count()\n",
        "\n",
        "print(exo_number)"
      ]
    },
    {
      "cell_type": "markdown",
      "metadata": {
        "id": "gffJK-gFcSAQ"
      },
      "source": [
        "Получили Series, где по годам открытия расписано количество экзопланет, для которых удалось установить радиус.\n",
        "\n",
        "Посмотрим, как меняется средний радиус открытых экзопланет год от года. Для этого надо сложить радиусы планет, открытых за определённый год, и поделить на их количество (которое мы уже нашли).\n",
        "\n",
        "Сумма радиусов считается методом **sum()**:\n",
        "\n",
        "**exo_radius_sum = exoplanet.groupby('discovered')['radius'].sum()**\n",
        "\n",
        "\n",
        "**print(exo_radius_sum)**\n",
        "\n"
      ]
    },
    {
      "cell_type": "code",
      "execution_count": 17,
      "metadata": {
        "colab": {
          "base_uri": "https://localhost:8080/"
        },
        "id": "vuwWaM17cSAR",
        "outputId": "4957fb24-2972-4752-924f-30f196ccbab2"
      },
      "outputs": [
        {
          "output_type": "stream",
          "name": "stdout",
          "text": [
            "discovered\n",
            "1995.0     1.900000\n",
            "1996.0     1.060000\n",
            "1999.0     1.380000\n",
            "2000.0     2.007000\n",
            "2001.0     0.921000\n",
            "2002.0     1.200000\n",
            "2004.0     6.789700\n",
            "2005.0     4.789000\n",
            "2006.0    20.355000\n",
            "2007.0    24.334600\n",
            "2008.0    34.329000\n",
            "2009.0    15.366794\n",
            "2010.0    56.828660\n",
            "2011.0    77.967374\n",
            "2012.0    50.074507\n",
            "2013.0    69.372100\n",
            "2014.0    55.268000\n",
            "2015.0    52.684740\n",
            "2016.0    97.986000\n",
            "2017.0    51.597620\n",
            "2018.0    90.195760\n",
            "2019.0    62.114410\n",
            "2020.0    65.119180\n",
            "2021.0    31.915760\n",
            "Name: radius, dtype: float64\n"
          ]
        }
      ],
      "source": [
        "exo_radius_sum = exoplanet.groupby('discovered')['radius'].sum()\n",
        "\n",
        "print(exo_radius_sum)"
      ]
    },
    {
      "cell_type": "markdown",
      "metadata": {
        "id": "x9TTxFKUcSAR"
      },
      "source": [
        "Очень кстати, что объекты Series можно делить друг на друга. Это позволит нам разделить перечень сумм радиусов на перечень количеств экзопланет без перебора в цикле:\n",
        "\n",
        "\n",
        "**exo_radius_mean = exo_radius_sum/exo_number**\n",
        "\n",
        "**print(exo_radius_mean)**\n"
      ]
    },
    {
      "cell_type": "code",
      "execution_count": 18,
      "metadata": {
        "colab": {
          "base_uri": "https://localhost:8080/"
        },
        "id": "wYNyKrjncSAR",
        "outputId": "62bc8ae4-aa6f-4141-9a80-dd9ae3932e98"
      },
      "outputs": [
        {
          "output_type": "stream",
          "name": "stdout",
          "text": [
            "discovered\n",
            "1995.0    1.900000\n",
            "1996.0    1.060000\n",
            "1999.0    1.380000\n",
            "2000.0    1.003500\n",
            "2001.0    0.921000\n",
            "2002.0    1.200000\n",
            "2004.0    0.969957\n",
            "2005.0    1.197250\n",
            "2006.0    2.035500\n",
            "2007.0    1.280768\n",
            "2008.0    1.373160\n",
            "2009.0    1.024453\n",
            "2010.0    0.996994\n",
            "2011.0    0.812160\n",
            "2012.0    0.685952\n",
            "2013.0    0.722626\n",
            "2014.0    0.526362\n",
            "2015.0    0.924294\n",
            "2016.0    0.924396\n",
            "2017.0    0.819010\n",
            "2018.0    0.791191\n",
            "2019.0    0.874851\n",
            "2020.0    0.739991\n",
            "2021.0    0.759899\n",
            "Name: radius, dtype: float64\n"
          ]
        }
      ],
      "source": [
        "exo_radius_mean = exo_radius_sum/exo_number\n",
        "\n",
        "print(exo_radius_mean)"
      ]
    },
    {
      "cell_type": "markdown",
      "metadata": {
        "id": "fsY11aS-cSAR"
      },
      "source": [
        "Точность наших приборов растёт, и новые экзопланеты по размерам всё ближе к Земле.\n",
        "\n",
        "А теперь вернемся к анализу датафрейма с музыкльными предпочтениями слушателей Яндекс.Музыки. Идею объединения сервисов Музыка и Радио тестировали на небольшой группе пользователей. Результаты сведены в csv-файл, который вам предстоит изучить. Итог анализа таких данных — это метрики: величины, значения которых отражают пользовательские впечатления. Одна из важнейших — **happiness**. Здесь это среднее время, которое пользователь слушает музыку в течение выбранного периода времени (в нашей задаче — за сутки). Чем дольше пользователь слушает музыку, тем он довольнее. Ваша задача: найти значение happiness и посмотреть, как оно менялось.\n",
        "\n",
        "Тем же методом **groupby()**, которым мы ищем новую Землю, можно поискать и необыкновенного человека в данных Яндекс.Музыки. Тем более, что без этого не выполнить поставленной менеджером задачи.\n",
        "\n",
        "Прежде, чем рассчитывать метрику happiness, нужно изучить пользователей, чьё «счастье» мы собираемся оценить. Какие они, эти люди, которые слушают действительно много музыки? Есть ли у них особые предпочтения, или они потребляют всё подряд?\n"
      ]
    },
    {
      "cell_type": "markdown",
      "metadata": {
        "id": "wl_Bj3LacSAR"
      },
      "source": [
        "## Задача\n",
        "\n",
        "1. Меломаны у нас есть. Сейчас узнаем идентификатор **user_id** одного из них. Для этого сгруппируем данные по каждому пользователю, чтобы собрать жанры прослушанных им композиций.\n",
        "\n",
        "Сгруппируйте DataFrame по столбцу user_id, сохраните полученный результат в переменной genre_grouping.\n",
        "\n",
        "Посчитайте количество жанров, которые выбрали пользователи, методом count(), указав, что выбираем один столбец genre_name.\n",
        "\n",
        "Сохраните результат в переменной genre_counting и выведите первые 30 строк этой таблицы.\n",
        "\n",
        "2. Быть может, те, кто за день слушает больше 50 песен, имеют более широкие предпочтения. Чтобы найти такого, изготовим универсальный инструмент.\n",
        "\n",
        "Напишите функцию user_genres, которая принимает некую группировку как свой аргумент group. Функция должна перебирать группы, входящие в эту группировку.\n",
        "\n",
        "В каждой группе два элемента — имя группы с индексом 0 и список значений с индексом 1.\n",
        "\n",
        "Обнаружив такую группу, в которой список (элемент с индексом 1) содержит более 50 значений, функция возвращает имя группы (значение элемента с индексом 0).\n",
        "\n",
        "3. Вызовите функцию **user_genres**, как аргумент передайте ей **genre_grouping**. Результат – **user_id** неведомого нам любителя музыки – сохраните в переменной **search_id** и выведите значение на экран.\n"
      ]
    },
    {
      "cell_type": "code",
      "execution_count": 31,
      "metadata": {
        "colab": {
          "base_uri": "https://localhost:8080/"
        },
        "id": "te5ZUVBocSAR",
        "outputId": "d8b829f0-7c79-45a4-f47f-561b01c231dc"
      },
      "outputs": [
        {
          "output_type": "stream",
          "name": "stdout",
          "text": [
            "Index(['user_id', 'track_name', 'artist_name', 'genre_name', 'city', 'time',\n",
            "       'day'],\n",
            "      dtype='object')\n",
            "user_id\n",
            "10004220    3\n",
            "100173ED    1\n",
            "1001CE90    7\n",
            "1002410A    3\n",
            "100261F9    2\n",
            "1004AAE6    1\n",
            "1004C5D8    1\n",
            "1005BECA    1\n",
            "10089377    3\n",
            "100AB021    1\n",
            "100ACFBC    1\n",
            "10101201    2\n",
            "10107FC7    2\n",
            "10112F4C    2\n",
            "1016144E    1\n",
            "1016C39F    2\n",
            "10180175    1\n",
            "101861D1    2\n",
            "10189D10    8\n",
            "101AAA19    1\n",
            "101B046A    2\n",
            "101B53F1    1\n",
            "101BBC61    1\n",
            "101C12A4    2\n",
            "101D714C    1\n",
            "101E910F    1\n",
            "10211433    1\n",
            "10222F55    1\n",
            "1022B77E    1\n",
            "10246DCB    2\n",
            "Name: genre_name, dtype: int64\n",
            "UserID, который прослушал более 50 композиций: 7D166C63\n"
          ]
        }
      ],
      "source": [
        "import pandas as pd\n",
        "df = pd.read_csv('yandex_music (1).csv')\n",
        "\n",
        "new_names = ['user_id', 'track_name', 'artist_name', 'genre_name', 'city', 'time', 'day']\n",
        "df.columns = new_names\n",
        "print(df.columns)\n",
        "genre_grouping = df.groupby('user_id')['genre_name'].count()\n",
        "print(genre_grouping.head(30))\n",
        "def user_genres(group):\n",
        "    for user, genre_count in group.items():\n",
        "        if genre_count > 50:\n",
        "            return user\n",
        "\n",
        "search_id = user_genres(genre_grouping)\n",
        "\n",
        "print(f\"UserID, который прослушал более 50 композиций: {search_id}\")"
      ]
    },
    {
      "cell_type": "markdown",
      "metadata": {
        "id": "NXaG8oIxcSAS"
      },
      "source": [
        "# Сортировка данных"
      ]
    },
    {
      "cell_type": "markdown",
      "metadata": {
        "id": "_ECIG2OicSAS"
      },
      "source": [
        "Поиск необычного в группе — что среди планет, что среди меломанов — это прежде всего поиск чемпионов: объектов с выдающимися показателями по разным статьям. Как всю таблицу, так и отдельные группы изучают, сортируя строки по какому-либо столбцу.\n",
        "\n",
        "В Pandas для этой операции есть метод **sort_values()**. У него два аргумента:\n",
        "\n",
        "• **by = 'имя столбца'** — имя столбца, по которому нужно сортировать;\n",
        "\n",
        "• **ascending:** по умолчанию True. Для сортировки по убыванию установите значение False.\n",
        "\n",
        "![image.png](attachment:image.png)\n",
        "\n",
        "\n",
        "Среди экзопланет интересны близкие по размерам к Земле. Есть ли такие? Отсортируем список по радиусу в порядке возрастания. Тогда в голове таблицы окажутся самые малые, на которых гравитация не прижмёт нас к полу.\n",
        "\n",
        "**print(exoplanet.sort_values(by='radius').head(30))**\n"
      ]
    },
    {
      "cell_type": "code",
      "execution_count": 33,
      "metadata": {
        "colab": {
          "base_uri": "https://localhost:8080/"
        },
        "id": "KlC0aFy0cSAS",
        "outputId": "e6169d72-c0c7-4fa6-fb13-2201770697b0"
      },
      "outputs": [
        {
          "output_type": "stream",
          "name": "stdout",
          "text": [
            "              name      mass   radius  discovered\n",
            "3207   Kepler-37 b  0.010000  0.02600      2013.0\n",
            "1744  Kepler-102 b  0.013530  0.04200      2014.0\n",
            "2221  Kepler-138 b  0.000210  0.04700      2014.0\n",
            "3611   Kepler-62 c  0.013000  0.04800      2013.0\n",
            "3323   Kepler-42 d  0.003000  0.05100      2011.0\n",
            "1745  Kepler-102 c  0.009440  0.05200      2014.0\n",
            "1473      K2-266 c  0.000910  0.06300      2018.0\n",
            "3322   Kepler-42 c  0.006000  0.06500      2011.0\n",
            "3208   Kepler-37 c  0.037760  0.06700      2013.0\n",
            "4473  TRAPPIST-1 h  0.001041  0.06740      2017.0\n",
            "1711      KOI-55 b  0.001400  0.06800      2011.0\n",
            "4469  TRAPPIST-1 d  0.001300  0.06890      2016.0\n",
            "3321   Kepler-42 b  0.009000  0.07000      2011.0\n",
            "3300  Kepler-408 b  0.015730  0.07300      2014.0\n",
            "1798  Kepler-106 b  0.016680  0.07300      2014.0\n",
            "2129  Kepler-131 c  0.026000  0.07500      2014.0\n",
            "3297  Kepler-406 c  0.009000  0.07600      2014.0\n",
            "2728   Kepler-20 e  0.009700  0.07700      2011.0\n",
            "1815  Kepler-107 d  0.011960  0.07700      2014.0\n",
            "1712      KOI-55 c  0.002100  0.07700      2011.0\n",
            "1748  Kepler-102 f  0.016360  0.07900      2014.0\n",
            "1288      K2-137 b  0.500000  0.07900      2017.0\n",
            "221       GJ 143 c  0.011640  0.07958      2018.0\n",
            "4470  TRAPPIST-1 e  0.002000  0.08190      2017.0\n",
            "3687   Kepler-68 c  0.006420  0.08270      2013.0\n",
            "1800  Kepler-106 d  0.025490  0.08500      2014.0\n",
            "1435      K2-239 c  0.002800  0.08900      2018.0\n",
            "2729   Kepler-20 f  0.045000  0.08900      2011.0\n",
            "3573  Kepler-595 c  0.010380  0.09000      2020.0\n",
            "1530       K2-32 e  0.006600  0.09000      2019.0\n"
          ]
        }
      ],
      "source": [
        "print(exoplanet.sort_values(by='radius').head(30))"
      ]
    },
    {
      "cell_type": "markdown",
      "metadata": {
        "id": "fI_4GhQocSAS"
      },
      "source": [
        "Оказывается, некоторые из уже открытых экзопланет по размерам близки не то что к Земле, но уже и к Луне! Получим список экзопланет с радиусом меньше земного. Смотрите, как логический оператор (здесь это <) задействуется в отборе элементов столбца. Дальше нам этот приём не раз понадобится.\n",
        "\n",
        "\n",
        "**print(exoplanet[exoplanet['radius'] < 1])**"
      ]
    },
    {
      "cell_type": "code",
      "execution_count": 34,
      "metadata": {
        "colab": {
          "base_uri": "https://localhost:8080/"
        },
        "id": "vMo1A-D4cSAS",
        "outputId": "f9d71334-7281-4f86-8b46-4dcb6199ecd7"
      },
      "outputs": [
        {
          "output_type": "stream",
          "name": "stdout",
          "text": [
            "                  name      mass   radius  discovered\n",
            "22        2M 2140+16 b  20.00000  0.92000      2010.0\n",
            "41    2MASS J0348-6022  43.00000  0.91000      2021.0\n",
            "42    2MASS J0407+1546  67.00000  0.97000      2021.0\n",
            "48    2MASS J1219+3128  49.00000  0.97000      2021.0\n",
            "68            55 Cnc e   0.02703  0.17370      2004.0\n",
            "...                ...       ...      ...         ...\n",
            "4712  WISE 1217+16 A b  22.00000  0.96000      2012.0\n",
            "4732        Wolf 940 b  26.00000  0.92000      2009.0\n",
            "4734           XO-2N b   0.62000  0.97300      2007.0\n",
            "4751  ZTF J0038+2030 b  59.30000  0.78300      2021.0\n",
            "4783          pi Men c   0.01517  0.16719      2018.0\n",
            "\n",
            "[565 rows x 4 columns]\n"
          ]
        }
      ],
      "source": [
        "print(exoplanet[exoplanet['radius'] < 1])"
      ]
    },
    {
      "cell_type": "markdown",
      "metadata": {
        "id": "a57uGcQ9cSAS"
      },
      "source": [
        "Но и этот список такой длинный, что изучать его лучше по частям. Экзопланеты, близкие по размерам к Земле, за последнее десятилетие открывали нередко. Можно изучать список открытых за каждый год. Например, для 2014 года (вновь обратите внимание на работу логического оператора, теперь это ==):\n",
        "\n",
        "**print(exoplanet[exoplanet['discovered'] == 2014])**\n"
      ]
    },
    {
      "cell_type": "code",
      "execution_count": 35,
      "metadata": {
        "colab": {
          "base_uri": "https://localhost:8080/"
        },
        "id": "ZcqVAyYvcSAT",
        "outputId": "869c1545-51c2-4700-b625-48dee570dd50"
      },
      "outputs": [
        {
          "output_type": "stream",
          "name": "stdout",
          "text": [
            "             name    mass  radius  discovered\n",
            "342      GU Psc b  11.000   1.350      2014.0\n",
            "394    HAT-P-49 b   1.730   1.413      2014.0\n",
            "400    HAT-P-54 b   0.760   0.944      2014.0\n",
            "427     HATS-15 b   2.170   1.105      2014.0\n",
            "454      HATS-4 b   1.323   1.020      2014.0\n",
            "...           ...     ...     ...         ...\n",
            "4673    WASP-74 b   0.826   1.248      2014.0\n",
            "4685    WASP-83 b   0.300   1.040      2014.0\n",
            "4688  WASP-87 A b   2.210   1.385      2014.0\n",
            "4690    WASP-89 b   5.900   1.040      2014.0\n",
            "4695  WASP-94 A b   0.452   1.720      2014.0\n",
            "\n",
            "[105 rows x 4 columns]\n"
          ]
        }
      ],
      "source": [
        "print(exoplanet[exoplanet['discovered'] == 2014])"
      ]
    },
    {
      "cell_type": "markdown",
      "metadata": {
        "id": "B7Apx-4ScSAT"
      },
      "source": [
        "А чтобы не тратить время на лишнее, поставим оба условия сразу. Для этого в Pandas есть логический оператор &, подобный оператору and языка Python. Напомним, его смысл на русском языке можно передать словами «и ещё»:\n",
        "\n",
        "**# экзопланеты меньше Земли __ и ещё __ открытые в 2014 году**\n",
        "\n",
        "**exo_small_14 = exoplanet[ (exoplanet['radius']<1) & (exoplanet['discovered']==2014)]**\n",
        "\n",
        "**print(exo_small_14)**\n",
        "\n"
      ]
    },
    {
      "cell_type": "code",
      "execution_count": 36,
      "metadata": {
        "colab": {
          "base_uri": "https://localhost:8080/"
        },
        "id": "IOQT_XaFcSAT",
        "outputId": "8cb2dfba-5a83-485f-cf58-4d732db92511"
      },
      "outputs": [
        {
          "output_type": "stream",
          "name": "stdout",
          "text": [
            "              name    mass  radius  discovered\n",
            "400     HAT-P-54 b  0.7600   0.944      2014.0\n",
            "465       HATS-5 b  0.2370   0.912      2014.0\n",
            "477       HATS-6 b  0.3190   0.998      2014.0\n",
            "1164  HIP 116454 b  0.0372   0.226      2014.0\n",
            "1690    KOI-1257 b  1.4500   0.940      2014.0\n",
            "...            ...     ...     ...         ...\n",
            "4039   Kepler-95 b  0.0410   0.305      2014.0\n",
            "4051   Kepler-96 b  0.0270   0.238      2014.0\n",
            "4065   Kepler-97 b  0.0110   0.132      2014.0\n",
            "4077   Kepler-98 b  0.0110   0.178      2014.0\n",
            "4088   Kepler-99 b  0.0190   0.132      2014.0\n",
            "\n",
            "[78 rows x 4 columns]\n"
          ]
        }
      ],
      "source": [
        "exo_small_14 = exoplanet[ (exoplanet['radius']<1) & (exoplanet['discovered']==2014)]\n",
        "\n",
        "print(exo_small_14)"
      ]
    },
    {
      "cell_type": "markdown",
      "metadata": {
        "id": "JdyfSFTWcSAT"
      },
      "source": [
        "Отсортируем результат в порядке убывания радиуса.\n",
        "\n",
        "**print(exo_small_14.sort_values(by = 'radius', ascending = False))**\n"
      ]
    },
    {
      "cell_type": "code",
      "execution_count": 37,
      "metadata": {
        "colab": {
          "base_uri": "https://localhost:8080/"
        },
        "id": "s8p88mLacSAT",
        "outputId": "aaa160c2-27ba-420b-cd01-6cecbb857808"
      },
      "outputs": [
        {
          "output_type": "stream",
          "name": "stdout",
          "text": [
            "              name     mass  radius  discovered\n",
            "477       HATS-6 b  0.31900   0.998      2014.0\n",
            "3329  Kepler-425 b  0.25000   0.978      2014.0\n",
            "3319  Kepler-419 b  2.50000   0.960      2014.0\n",
            "400     HAT-P-54 b  0.76000   0.944      2014.0\n",
            "1690    KOI-1257 b  1.45000   0.940      2014.0\n",
            "...            ...      ...     ...         ...\n",
            "3300  Kepler-408 b  0.01573   0.073      2014.0\n",
            "1798  Kepler-106 b  0.01668   0.073      2014.0\n",
            "1745  Kepler-102 c  0.00944   0.052      2014.0\n",
            "2221  Kepler-138 b  0.00021   0.047      2014.0\n",
            "1744  Kepler-102 b  0.01353   0.042      2014.0\n",
            "\n",
            "[78 rows x 4 columns]\n"
          ]
        }
      ],
      "source": [
        "print(exo_small_14.sort_values(by = 'radius', ascending = False))"
      ]
    },
    {
      "cell_type": "markdown",
      "metadata": {
        "id": "KGh18VNscSAT"
      },
      "source": [
        "Самая крупная планета, Kepler 106 d – почти как Земля, вращается вокруг звезды Kepler 106 в созвездии Лебедя. Эта звезда очень похожа на наше Солнце. Правда, до неё 1435 световых лет — далековато. Но, возможно, учёные что-нибудь придумают. А мы пока применим эту технологию к нашему бизнесу, в «приземлённой» задаче.\n",
        "## Задача\n",
        "\n",
        "1. Космический телескоп Kepler открыл похожую на Землю планету у похожей на Солнце звезды. А вы в данных Яндекс.Музыки обнаружили меломана с уникальными данными. Он за день послушал больше 50 композиций.\n",
        "Получите таблицу с прослушанными им треками.\n",
        "\n",
        "Для этого запросите из структуры данных df строки, отвечающие сразу двум условиям:\n",
        "\n",
        "1) значение в столбце 'user_id' должно быть равно значению переменной search_id;\n",
        "\n",
        "2) время прослушивания, т.е. значение в столбце 'total_play_seconds', не должно равняться 0.\n",
        "\n",
        "Сохраните результат в переменной music_user.\n",
        "\n",
        "2. Теперь узнаем, сколько времени он слушал музыку каждого жанра.\n",
        "\n",
        "Сгруппируйте данные таблицы music_user по столбцу 'genre_name' и получите сумму значений столбца 'total_play_seconds'. Сохраните результат в переменной sum_music_user и выведите её значение на экран.\n",
        "\n",
        "3. Кажется, предпочтения нашего меломана начинают проявляться. Но, возможно, длительность композиций от жанра к жанру сильно различается. Важно знать, сколько треков каждого жанра он включил.\n",
        "\n",
        "Сгруппируйте данные по столбцу genre_name и посчитайте, сколько значений в столбце genre_name. Сохраните результат в переменной count_music_user и выведите её значение на экран.\n",
        "\n",
        "4. Чтобы предпочтения были видны сразу, нужно крупнейшие значения расположить наверху. Отсортируйте данные в группировке sum_music_user по убыванию. Внимание: когда применяете метод sort_values() к Series с единственным столбцом, аргумент by указывать не нужно, только порядок сортировки.\n",
        "\n",
        "Сохраните результат в переменной final_sum и выведите её значение на экран.\n",
        "\n",
        "5. Теперь то же самое надо сделать с числом прослушанных меломаном композиций. Отсортируйте данные группировки count_music_user по убыванию. Сохраните результат в переменной final_count, значение которой выведите на экран.\n"
      ]
    },
    {
      "cell_type": "code",
      "execution_count": 38,
      "metadata": {
        "colab": {
          "base_uri": "https://localhost:8080/"
        },
        "id": "wxnFRp1rcSAU",
        "outputId": "b63f1ca4-2b8e-41cb-b534-bb591572e8c7"
      },
      "outputs": [
        {
          "output_type": "stream",
          "name": "stdout",
          "text": [
            "Время прослушивания музыки каждого жанра:\n",
            "genre_name\n",
            "classical                                              20:26:32\n",
            "country                                                08:39:24\n",
            "dance                                          14:11:5614:23:32\n",
            "folk                                                   13:52:18\n",
            "folkrock                                               14:29:08\n",
            "ghazal                                                 08:32:18\n",
            "hip                                                    20:29:56\n",
            "jazz          20:29:5314:23:2714:16:1014:23:0608:39:3914:09:...\n",
            "pop           20:34:4408:46:5114:23:3008:25:3314:22:4309:04:...\n",
            "punk                                                   13:52:12\n",
            "reggae                                         08:46:5509:04:14\n",
            "rnb                                                    08:32:10\n",
            "rock                   14:12:0214:23:4308:35:5808:56:3008:35:58\n",
            "schlager               08:42:5508:39:3814:13:5409:04:1908:35:45\n",
            "soundtrack                                             14:09:56\n",
            "Name: time, dtype: object\n",
            "Количество треков каждого жанра:\n",
            "genre_name\n",
            "classical      1\n",
            "country        1\n",
            "dance          2\n",
            "folk           1\n",
            "folkrock       1\n",
            "ghazal         1\n",
            "hip            1\n",
            "jazz          16\n",
            "pop           15\n",
            "punk           1\n",
            "reggae         2\n",
            "rnb            1\n",
            "rock           5\n",
            "schlager       5\n",
            "soundtrack     1\n",
            "dtype: int64\n",
            "Время прослушивания по жанрам (по убыванию):\n",
            "genre_name\n",
            "pop           20:34:4408:46:5114:23:3008:25:3314:22:4309:04:...\n",
            "hip                                                    20:29:56\n",
            "jazz          20:29:5314:23:2714:16:1014:23:0608:39:3914:09:...\n",
            "classical                                              20:26:32\n",
            "folkrock                                               14:29:08\n",
            "rock                   14:12:0214:23:4308:35:5808:56:3008:35:58\n",
            "dance                                          14:11:5614:23:32\n",
            "soundtrack                                             14:09:56\n",
            "folk                                                   13:52:18\n",
            "punk                                                   13:52:12\n",
            "reggae                                         08:46:5509:04:14\n",
            "schlager               08:42:5508:39:3814:13:5409:04:1908:35:45\n",
            "country                                                08:39:24\n",
            "ghazal                                                 08:32:18\n",
            "rnb                                                    08:32:10\n",
            "Name: time, dtype: object\n",
            "Количество прослушанных треков по жанрам (по убыванию):\n",
            "genre_name\n",
            "jazz          16\n",
            "pop           15\n",
            "rock           5\n",
            "schlager       5\n",
            "dance          2\n",
            "reggae         2\n",
            "classical      1\n",
            "country        1\n",
            "folk           1\n",
            "folkrock       1\n",
            "ghazal         1\n",
            "hip            1\n",
            "punk           1\n",
            "rnb            1\n",
            "soundtrack     1\n",
            "dtype: int64\n"
          ]
        }
      ],
      "source": [
        "import pandas as pd\n",
        "\n",
        "# Очистка названий столбцов от лишних пробелов\n",
        "df.columns = df.columns.str.strip()\n",
        "\n",
        "# 1. Получение таблицы с прослушанными треками меломана\n",
        "# Фильтрация по user_id и total_play_seconds\n",
        "music_user = df[(df['user_id'] == search_id) & (df['time'] != 0)]\n",
        "\n",
        "# 2. Узнать, сколько времени меломан слушал музыку каждого жанра\n",
        "sum_music_user = music_user.groupby('genre_name')['time'].sum()\n",
        "\n",
        "# Выводим на экран\n",
        "print(\"Время прослушивания музыки каждого жанра:\")\n",
        "print(sum_music_user)\n",
        "\n",
        "# 3. Узнать, сколько треков каждого жанра прослушал меломан\n",
        "count_music_user = music_user.groupby('genre_name').size()\n",
        "\n",
        "# Выводим на экран\n",
        "print(\"Количество треков каждого жанра:\")\n",
        "print(count_music_user)\n",
        "\n",
        "# 4. Сортировка по времени прослушивания по убыванию\n",
        "final_sum = sum_music_user.sort_values(ascending=False)\n",
        "\n",
        "# Выводим на экран\n",
        "print(\"Время прослушивания по жанрам (по убыванию):\")\n",
        "print(final_sum)\n",
        "\n",
        "# 5. Сортировка по количеству прослушанных треков по убыванию\n",
        "final_count = count_music_user.sort_values(ascending=False)\n",
        "\n",
        "# Выводим на экран\n",
        "print(\"Количество прослушанных треков по жанрам (по убыванию):\")\n",
        "print(final_count)\n"
      ]
    },
    {
      "cell_type": "code",
      "execution_count": null,
      "metadata": {
        "id": "WbDrd0f_cSAU"
      },
      "outputs": [],
      "source": []
    }
  ],
  "metadata": {
    "kernelspec": {
      "display_name": "Python 3 (ipykernel)",
      "language": "python",
      "name": "python3"
    },
    "language_info": {
      "codemirror_mode": {
        "name": "ipython",
        "version": 3
      },
      "file_extension": ".py",
      "mimetype": "text/x-python",
      "name": "python",
      "nbconvert_exporter": "python",
      "pygments_lexer": "ipython3",
      "version": "3.9.12"
    },
    "colab": {
      "provenance": []
    }
  },
  "nbformat": 4,
  "nbformat_minor": 0
}