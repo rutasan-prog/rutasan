{
  "cells": [
    {
      "cell_type": "markdown",
      "metadata": {
        "id": "w5wjMHJ1xV5X"
      },
      "source": [
        "# Анализ и обработка результатов\n",
        "\n",
        "В анализе данных важно наглядное представление результатов, чтобы их мог оценить заказчик. Это бизнес, где на кону громадный трафик, серверные мощности, личное время многотысячной аудитории. И одновременно это исследование.\n",
        "\n",
        "Как в настоящей экспериментальной науке, ответ непредсказуем. Его точность зависит от умелого владения статистическими методами и от качества исходных данных. Перед тем, как начинать считать, проверьте, грамотно ли ваши данные подготовлены.\n",
        "\n",
        "# Группировка данных\n",
        "\n",
        "Слово «анализ» означает разбор, рассмотрение с разных сторон. Анализ данных начинают с разделения их на группы по какому-нибудь признаку. Эта операция называется группировка данных. Она помогает изучить материал более подробно, чтобы затем перейти к поиску взаимосвязей между отдельными группами.\n",
        "\n",
        "\n",
        "Группировка оправданна, если данные чётко делятся по значимому признаку, а полученные группы близки к теме задачи. Например, когда есть данные обо всех покупках в супермаркете, можно смело заниматься группировкой. Так можно установить время наплыва покупателей и решить проблему пиковых нагрузок. Или посчитать средний чек — обычно для магазинов это ключевая метрика.\n",
        "\n",
        "\n",
        "Стадии группировки хорошо укладываются в словесную формулу **split-apply-combine**:\n",
        "\n",
        "•\tразделить, **split** — разбиение на группы по определённому критерию;\n",
        "\n",
        "•\tприменить, **apply** — применение какого-либо метода к каждой группе в отдельности, например, подсчёт численности группы методом count() или суммирование вызовом sum();\n",
        "\n",
        "•\tобъединить, **combine** — сведение результатов в новую структуру данных, в зависимости от условий разделения и выполнения метода это бывает DataFrame и Series.\n",
        "\n",
        "На картинке изображен принцип **split-apply-combine** для таблицы с экзопланетами. Посмотрим, как вообще идут дела с поиском экзопланет. Сначала данные делят по группам, где каждая группа — это год. Потом метод **count()** подсчитывает численность каждой группы. В итоге получаем новую структуру данных с группами, где каждая содержит год и число открытых за этот год экзопланет.\n",
        "\n",
        "![image.png](attachment:image.png)\n",
        "\n",
        "В Рandas для группировки данных есть метод **groupby()**. Он принимает как аргумент название столбца, по которому нужно группировать. В случае с делением экзопланет по годам открытия:\n",
        "\n",
        "**print(exoplanet.groupby('discovered'))**\n",
        "\n",
        "**<pandas.core.groupby.DataFrameGroupBy object at 0x7fc1e1ca3400>**\n",
        "\n",
        "\n",
        "Применение метода **groupby()** к объекту типа DataFrame приводит к созданию объекта особого типа — **DataFrameGroupBy**. Это сгруппированные данные. Если применить к ним какой-нибудь метод Pandas, они станут новой структурой данных типа **DataFrame** или **Series**.\n",
        "Подсчитаем сгруппированные по годам экзопланеты методом **count()**:\n",
        "\n",
        "Если нужно сравнить наблюдения по одному показателю, метод применяют к **DataFrameGroupBy** с указанием на один столбец. Нас в первую очередь интересует радиус экзопланет: мы ищем другую Землю. Давайте получим таблицу с единственным столбцом 'radius':\n",
        "\n",
        "**exo_number = exoplanet.groupby('discovered')['radius'].count()**\n",
        "\n",
        "**print(exo_number)**\n",
        "\n",
        "Получили Series, где по годам открытия расписано количество экзопланет, для которых удалось установить радиус.\n",
        "\n",
        "Посмотрим, как меняется средний радиус открытых экзопланет год от года. Для этого надо сложить радиусы планет, открытых за определённый год, и поделить на их количество (которое мы уже нашли).\n",
        "\n",
        "Сумма радиусов считается методом **sum()**:\n",
        "\n",
        "**exo_radius_sum = exoplanet.groupby('discovered')['radius'].sum()**\n",
        "\n",
        "\n",
        "**print(exo_radius_sum)**\n",
        "\n",
        "\n",
        "\n",
        "## Задача\n",
        "Вашему вниманию предлагается датасет с обзором показателей самоубийств с 1985 по 2016 год — Сравнение социально-экономической информации с показателями самоубийств по годам и странам.\n",
        "\n",
        "Столбцами этой таблицы являются: страна, год, пол, возрастная группа, количество самоубийств, население, уровень самоубийств, сводный ключ по стране за год, ИЧР (индекс человеческого развития) за год, ВВП за год, ВВП на душу населения, поколение (на основе среднего по возрастной группе).\n",
        "\n",
        "1. Загрузите таблицу master, содержащую данные о самоубийствах. Выведите на экран таблицу и оцените данные, обратите внимание на названия столбцов, переименуйте их, если это необходимо.\n",
        "\n",
        "2. Убедитесь в том, что данные прошли предподготовку.  Пропущенные и неопределённые значения выявляет метод isna(), а суммарное количество таких значений — метод sum().\n",
        "\n",
        "3. Сгруппируйте DataFrame по столбцу country, сохраните полученный результат в переменной country_grouping.\n",
        "\n",
        "4. Посчитайте количество случаев самоубийств по странам, которые были совершены, методом **sum()**, указав, что выбираем один столбец suicides_no.\n",
        "\n",
        "Сохраните результат в переменной country_sum и выведите первые 30 строк этой таблицы.\n",
        "\n"
      ]
    },
    {
      "cell_type": "code",
      "execution_count": 6,
      "metadata": {
        "scrolled": true,
        "colab": {
          "base_uri": "https://localhost:8080/"
        },
        "id": "fQHOf8qwxV5a",
        "outputId": "203beb96-fb29-48a6-c824-21d25612ddb5"
      },
      "outputs": [
        {
          "output_type": "stream",
          "name": "stdout",
          "text": [
            "Первые строки таблицы:\n",
            "   country  year     sex          age  suicides_no  population  \\\n",
            "0  Albania  1987    male  15-24 years           21      312900   \n",
            "1  Albania  1987    male  35-54 years           16      308000   \n",
            "2  Albania  1987  female  15-24 years           14      289700   \n",
            "3  Albania  1987    male    75+ years            1       21800   \n",
            "4  Albania  1987    male  25-34 years            9      274300   \n",
            "\n",
            "   suicides_per_100k_pop country_year  HDI_for_year   gdp_for_year  \\\n",
            "0                   6.71  Albania1987           NaN  2,156,624,900   \n",
            "1                   5.19  Albania1987           NaN  2,156,624,900   \n",
            "2                   4.83  Albania1987           NaN  2,156,624,900   \n",
            "3                   4.59  Albania1987           NaN  2,156,624,900   \n",
            "4                   3.28  Albania1987           NaN  2,156,624,900   \n",
            "\n",
            "   gdp_per_capita       generation  \n",
            "0             796     Generation X  \n",
            "1             796           Silent  \n",
            "2             796     Generation X  \n",
            "3             796  G.I. Generation  \n",
            "4             796          Boomers  \n",
            "\n",
            "Пропущенные значения до очистки:\n",
            "country                      0\n",
            "year                         0\n",
            "sex                          0\n",
            "age                          0\n",
            "suicides_no                  0\n",
            "population                   0\n",
            "suicides_per_100k_pop        0\n",
            "country_year                 0\n",
            "HDI_for_year             19456\n",
            "gdp_for_year                 0\n",
            "gdp_per_capita               0\n",
            "generation                   0\n",
            "dtype: int64\n",
            "\n",
            "Пропущенные значения после очистки:\n",
            "country                  0\n",
            "year                     0\n",
            "sex                      0\n",
            "age                      0\n",
            "suicides_no              0\n",
            "population               0\n",
            "suicides_per_100k_pop    0\n",
            "country_year             0\n",
            "HDI_for_year             0\n",
            "gdp_for_year             0\n",
            "gdp_per_capita           0\n",
            "generation               0\n",
            "dtype: int64\n",
            "\n",
            "Первые 30 строк по странам:\n",
            "country\n",
            "Albania                     238\n",
            "Antigua and Barbuda           0\n",
            "Argentina                 27485\n",
            "Armenia                     628\n",
            "Australia                 19654\n",
            "Austria                   15124\n",
            "Azerbaijan                  111\n",
            "Bahamas                      39\n",
            "Bahrain                     152\n",
            "Barbados                     54\n",
            "Belarus                   11757\n",
            "Belgium                   20424\n",
            "Belize                      154\n",
            "Bosnia and Herzegovina      318\n",
            "Brazil                    81549\n",
            "Bulgaria                  10516\n",
            "Canada                    33612\n",
            "Chile                     14907\n",
            "Colombia                  17940\n",
            "Costa Rica                 2513\n",
            "Croatia                    6397\n",
            "Cuba                      12998\n",
            "Cyprus                      217\n",
            "Czech Republic            14760\n",
            "Denmark                    5335\n",
            "Ecuador                    7080\n",
            "El Salvador                4373\n",
            "Estonia                    2381\n",
            "Fiji                         92\n",
            "Finland                    9474\n",
            "Name: suicides_no, dtype: int64\n"
          ]
        }
      ],
      "source": [
        "import pandas as pd\n",
        "\n",
        "data = pd.read_csv('master.csv')\n",
        "\n",
        "data.columns = [\n",
        "    'country', 'year', 'sex', 'age', 'suicides_no', 'population',\n",
        "    'suicides_per_100k_pop', 'country_year', 'HDI_for_year',\n",
        "    'gdp_for_year', 'gdp_per_capita', 'generation'\n",
        "]\n",
        "\n",
        "print(\"Первые строки таблицы:\")\n",
        "print(data.head())\n",
        "\n",
        "missing_data = data.isna().sum()\n",
        "print(\"\\nПропущенные значения до очистки:\")\n",
        "print(missing_data)\n",
        "\n",
        "data_cleaned = data.dropna()\n",
        "\n",
        "missing_data_cleaned = data_cleaned.isna().sum()\n",
        "print(\"\\nПропущенные значения после очистки:\")\n",
        "print(missing_data_cleaned)\n",
        "\n",
        "country_grouping = data_cleaned.groupby('country')\n",
        "\n",
        "country_sum = country_grouping['suicides_no'].sum()\n",
        "\n",
        "# Вывод первых 30 строк результата\n",
        "print(\"\\nПервые 30 строк по странам:\")\n",
        "print(country_sum.head(30))\n",
        "\n"
      ]
    },
    {
      "cell_type": "markdown",
      "metadata": {
        "id": "L2Wg6VvuxV5a"
      },
      "source": [
        "# Сортировка данных\n",
        "\n",
        "\n",
        "Поиск необычного в группе — что среди планет, что среди меломанов — это прежде всего поиск чемпионов: объектов с выдающимися показателями по разным статьям. Как всю таблицу, так и отдельные группы изучают, сортируя строки по какому-либо столбцу.\n",
        "\n",
        "В Pandas для этой операции есть метод **sort_values()**. У него два аргумента:\n",
        "\n",
        "• **by = 'имя столбца'** — имя столбца, по которому нужно сортировать;\n",
        "\n",
        "• **ascending:** по умолчанию True. Для сортировки по убыванию установите значение False.\n",
        "\n",
        "![image.png](attachment:image.png)\n",
        "\n",
        "\n",
        "Среди экзопланет интересны близкие по размерам к Земле. Есть ли такие? Отсортируем список по радиусу в порядке возрастания. Тогда в голове таблицы окажутся самые малые, на которых гравитация не прижмёт нас к полу.\n",
        "\n",
        "**print(exoplanet.sort_values(by='radius').head(30))**\n",
        "\n",
        "Оказывается, некоторые из уже открытых экзопланет по размерам близки не то что к Земле, но уже и к Луне! Получим список экзопланет с радиусом меньше земного. Смотрите, как логический оператор (здесь это <) задействуется в отборе элементов столбца. Дальше нам этот приём не раз понадобится.\n",
        "\n",
        "**print(exoplanet[exoplanet['radius'] < 1])**\n",
        "\n",
        "Но и этот список такой длинный, что изучать его лучше по частям. Экзопланеты, близкие по размерам к Земле, за последнее десятилетие открывали нередко. Можно изучать список открытых за каждый год. Например, для 2014 года (вновь обратите внимание на работу логического оператора, теперь это ==):\n",
        "\n",
        "**print(exoplanet[exoplanet['discovered'] == 2014])**\n",
        "\n",
        "А чтобы не тратить время на лишнее, поставим оба условия сразу. Для этого в Pandas есть логический оператор &, подобный оператору and языка Python. Напомним, его смысл на русском языке можно передать словами «и ещё»:\n",
        "\n",
        "**exo_small_14 = exoplanet[ (exoplanet['radius']<1) & (exoplanet['discovered']==2014)]**\n",
        "\n",
        "**print(exo_small_14)**\n",
        "\n",
        "Отсортируем результат в порядке убывания радиуса.\n",
        "\n",
        "**print(exo_small_14.sort_values(by = 'radius', ascending = False))**\n",
        "\n",
        "\n",
        "\n"
      ]
    },
    {
      "cell_type": "markdown",
      "metadata": {
        "id": "G-SU7sqIxV5b"
      },
      "source": [
        "## Задача\n",
        "1. Выделим пятерки стран с самым низким и самым высоким уровнем самоубийств в мире."
      ]
    },
    {
      "cell_type": "code",
      "execution_count": 7,
      "metadata": {
        "colab": {
          "base_uri": "https://localhost:8080/"
        },
        "id": "URygxT_6xV5b",
        "outputId": "db2f40be-a748-40a3-8db5-609872d7adfc"
      },
      "outputs": [
        {
          "output_type": "stream",
          "name": "stdout",
          "text": [
            "Топ-5 стран с самым высоким количеством самоубийств:\n",
            "country\n",
            "United States    355963\n",
            "Japan            259729\n",
            "France           106296\n",
            "Germany           98542\n",
            "Ukraine           85362\n",
            "Name: suicides_no, dtype: int64\n",
            "\n",
            "Топ-5 стран с самым низким количеством самоубийств:\n",
            "country\n",
            "Antigua and Barbuda     0\n",
            "Grenada                 3\n",
            "Maldives                4\n",
            "Oman                   20\n",
            "Seychelles             32\n",
            "Name: suicides_no, dtype: int64\n"
          ]
        }
      ],
      "source": [
        "top_5_highest_suicides = country_sum.nlargest(5)\n",
        "top_5_lowest_suicides = country_sum.nsmallest(5)\n",
        "\n",
        "print(\"Топ-5 стран с самым высоким количеством самоубийств:\")\n",
        "print(top_5_highest_suicides)\n",
        "\n",
        "print(\"\\nТоп-5 стран с самым низким количеством самоубийств:\")\n",
        "print(top_5_lowest_suicides)\n",
        "\n"
      ]
    },
    {
      "cell_type": "code",
      "execution_count": null,
      "metadata": {
        "scrolled": true,
        "id": "QIEPdydhxV5b"
      },
      "outputs": [],
      "source": [
        "#Youre code is here\n"
      ]
    },
    {
      "cell_type": "markdown",
      "metadata": {
        "id": "4UgDF98FxV5b"
      },
      "source": [
        "2. Исследуйте распределение количества суидидов по гендерному признаку. Найдите лидеров и антилидеров по количеству самоубийств среди женщин. Повторяется ли картина по сравнению с предыдущим исследованием?"
      ]
    },
    {
      "cell_type": "code",
      "execution_count": 8,
      "metadata": {
        "colab": {
          "base_uri": "https://localhost:8080/"
        },
        "id": "BNP7mNloxV5b",
        "outputId": "a6a6a291-fdc2-40a3-93f3-bb71a09e00ca"
      },
      "outputs": [
        {
          "output_type": "stream",
          "name": "stdout",
          "text": [
            "Топ-5 стран с самым высоким количеством самоубийств среди женщин:\n",
            "country\n",
            "Japan            80683\n",
            "United States    75033\n",
            "France           28168\n",
            "Germany          26623\n",
            "Brazil           17736\n",
            "Name: female, dtype: int64\n",
            "\n",
            "Топ-5 стран с самым низким количеством самоубийств среди женщин:\n",
            "country\n",
            "Antigua and Barbuda    0\n",
            "Grenada                0\n",
            "Maldives               0\n",
            "Oman                   0\n",
            "Seychelles             3\n",
            "Name: female, dtype: int64\n",
            "\n",
            "Топ-5 стран с самым высоким количеством самоубийств среди мужчин:\n",
            "country\n",
            "United States    280930\n",
            "Japan            179046\n",
            "France            78128\n",
            "Germany           71919\n",
            "Ukraine           69424\n",
            "Name: male, dtype: int64\n",
            "\n",
            "Топ-5 стран с самым низким количеством самоубийств среди мужчин:\n",
            "country\n",
            "Antigua and Barbuda     0\n",
            "Grenada                 3\n",
            "Maldives                4\n",
            "Oman                   20\n",
            "Bahamas                29\n",
            "Name: male, dtype: int64\n"
          ]
        }
      ],
      "source": [
        "# Сгруппируем данные по полу и странам для анализа самоубийств среди мужчин и женщин\n",
        "gender_grouping = data_cleaned.groupby(['country', 'sex'])['suicides_no'].sum().unstack()\n",
        "\n",
        "# Найдем лидеров и антилидеров по количеству самоубийств среди женщин\n",
        "top_5_female_suicides = gender_grouping['female'].nlargest(5)\n",
        "bottom_5_female_suicides = gender_grouping['female'].nsmallest(5)\n",
        "\n",
        "# Найдем лидеров и антилидеров по количеству самоубийств среди мужчин\n",
        "top_5_male_suicides = gender_grouping['male'].nlargest(5)\n",
        "bottom_5_male_suicides = gender_grouping['male'].nsmallest(5)\n",
        "\n",
        "# Выводим результаты\n",
        "print(\"Топ-5 стран с самым высоким количеством самоубийств среди женщин:\")\n",
        "print(top_5_female_suicides)\n",
        "\n",
        "print(\"\\nТоп-5 стран с самым низким количеством самоубийств среди женщин:\")\n",
        "print(bottom_5_female_suicides)\n",
        "\n",
        "print(\"\\nТоп-5 стран с самым высоким количеством самоубийств среди мужчин:\")\n",
        "print(top_5_male_suicides)\n",
        "\n",
        "print(\"\\nТоп-5 стран с самым низким количеством самоубийств среди мужчин:\")\n",
        "print(bottom_5_male_suicides)\n"
      ]
    },
    {
      "cell_type": "markdown",
      "metadata": {
        "id": "LQ1niGzNxV5c"
      },
      "source": [
        "# Описательная статистика\n",
        "\n",
        "Чтобы представить себе среднестатистического самоубийцу, понадобится описательная статистика.\n",
        "\n",
        "Из её показателей для количественного описания данных в нашей задаче нужны четыре меры — максимум, минимум, медиана и среднее.\n",
        "\n",
        "Наибольшее и наименьшее обычно вычисляют только по одному признаку. Например, можно получить минимальное и максимальное значение уровня самоубийств (количество самоубийств на 100 тыс.населения) (столбец 'suicides/100k pop'). Для поиска максимума вызывают метод max(), примененный к этому столбцу:\n",
        "\n",
        "print(master['suicides/100k pop'].max())\n"
      ]
    },
    {
      "cell_type": "code",
      "execution_count": 11,
      "metadata": {
        "colab": {
          "base_uri": "https://localhost:8080/"
        },
        "id": "gKfZs5i3xV5c",
        "outputId": "cbb0c299-27fe-4479-ec7e-b8777189522b"
      },
      "outputs": [
        {
          "output_type": "stream",
          "name": "stdout",
          "text": [
            "224.97\n"
          ]
        }
      ],
      "source": [
        "print(data['suicides_per_100k_pop'].max())"
      ]
    },
    {
      "cell_type": "markdown",
      "metadata": {
        "id": "obBzaprUxV5c"
      },
      "source": [
        "Самый высокий показатель оказался 224.97 самоубийств на 100 тыс.населения. Интересно, в какой стране такая ситуация.\n",
        "\n",
        "Запросим из master строку с максимальным значением, прибегнув к логической индексации с условием\n",
        "\n",
        "**master['suicides/100k pop'] == master['suicides/100k pop'].max()**"
      ]
    },
    {
      "cell_type": "code",
      "execution_count": 14,
      "metadata": {
        "colab": {
          "base_uri": "https://localhost:8080/"
        },
        "id": "sEEQxwdFxV5c",
        "outputId": "7ff8f7fc-835e-44b8-f70b-8c883d207df4"
      },
      "outputs": [
        {
          "output_type": "stream",
          "name": "stdout",
          "text": [
            "        country  year   sex        age  suicides_no  population  \\\n",
            "24332  Suriname  2012  male  75+ years           10        5346   \n",
            "\n",
            "       suicides_per_100k_pop  country_year  HDI_for_year   gdp_for_year  \\\n",
            "24332                 187.06  Suriname2012         0.711  4,980,000,000   \n",
            "\n",
            "       gdp_per_capita generation  \n",
            "24332           10227     Silent  \n"
          ]
        }
      ],
      "source": [
        "# Найдем максимальное значение в столбце 'suicides_per_100k_pop'\n",
        "max_suicide_rate = data_cleaned['suicides_per_100k_pop'].max()\n",
        "\n",
        "# Используем логическую индексацию для поиска строки с этим значением\n",
        "max_suicide_row = data_cleaned[data_cleaned['suicides_per_100k_pop'] == max_suicide_rate]\n",
        "\n",
        "# Выводим строку с максимальным уровнем самоубийств\n",
        "print(max_suicide_row)\n"
      ]
    },
    {
      "cell_type": "markdown",
      "metadata": {
        "id": "pE_xt1v0xV5c"
      },
      "source": [
        "Минимальное значение — ищут методом **min()**. Нам интересно установить случаи, когда уровень суицидов минимальный, но не нулевой.\n",
        "\n",
        "Вот как мы создаём выборку  и находим в ней минимальное значение:\n",
        "\n",
        "**master_drop_null = master[master['suicides/100k pop'] != 0]**\n",
        "\n",
        "**print(master_drop_null['suicides/100k pop'].min())**\n"
      ]
    },
    {
      "cell_type": "code",
      "execution_count": 13,
      "metadata": {
        "colab": {
          "base_uri": "https://localhost:8080/"
        },
        "id": "nkR9iC6xxV5c",
        "outputId": "f72fb08f-8c01-493e-b72c-000b7aa6d2f9"
      },
      "outputs": [
        {
          "output_type": "stream",
          "name": "stdout",
          "text": [
            "0.02\n"
          ]
        }
      ],
      "source": [
        "master_drop_null = data[data['suicides_per_100k_pop'] != 0]\n",
        "print(master_drop_null['suicides_per_100k_pop'].min())"
      ]
    },
    {
      "cell_type": "markdown",
      "metadata": {
        "id": "Q5IfC5PaxV5d"
      },
      "source": [
        "Получим название самой \"счастливой\" страны. Как и при поиске максимума, воспользуемся условием и логической индексацией"
      ]
    },
    {
      "cell_type": "code",
      "execution_count": 15,
      "metadata": {
        "colab": {
          "base_uri": "https://localhost:8080/"
        },
        "id": "4HIGqgbDxV5d",
        "outputId": "327810ad-9fcb-445c-a12e-5ecacb0ab7aa"
      },
      "outputs": [
        {
          "output_type": "stream",
          "name": "stdout",
          "text": [
            "            country  year     sex         age  suicides_no  population  \\\n",
            "23347  South Africa  2000  female  5-14 years            1     5079980   \n",
            "23479  South Africa  2011    male  5-14 years            1     5198162   \n",
            "\n",
            "       suicides_per_100k_pop      country_year  HDI_for_year     gdp_for_year  \\\n",
            "23347                   0.02  South Africa2000         0.632  136,361,854,808   \n",
            "23479                   0.02  South Africa2011         0.651  416,878,162,441   \n",
            "\n",
            "       gdp_per_capita    generation  \n",
            "23347            3361    Millenials  \n",
            "23479            8906  Generation Z  \n"
          ]
        }
      ],
      "source": [
        "# Найдем минимальное ненулевое значение в столбце 'suicides_per_100k_pop'\n",
        "min_suicide_rate = data_cleaned[data_cleaned['suicides_per_100k_pop'] > 0]['suicides_per_100k_pop'].min()\n",
        "\n",
        "# Используем логическую индексацию для поиска строки с этим значением\n",
        "min_suicide_row = data_cleaned[data_cleaned['suicides_per_100k_pop'] == min_suicide_rate]\n",
        "\n",
        "# Выводим строку с минимальным ненулевым уровнем самоубийств\n",
        "print(min_suicide_row)\n"
      ]
    },
    {
      "cell_type": "markdown",
      "metadata": {
        "id": "-R19SjHSxV5d"
      },
      "source": [
        "Результат вывода — две страны, которые соответствуют минимальному значению.\n",
        "На основе полученных данных можно сделать вывод, что число совершенных самоубийств на 100 тыс. населения  находится в диапазоне от 0,02 до 224.97 секунд, не включая пропущенные.\n",
        "\n",
        "Это знание пригодится, чтобы разобраться с медианой и средним арифметическим.\n",
        "\n",
        "Среднее и медиана оценивают значения в центре выборки. Если тех строк, где число с большим количеством самоубийц, столько же, сколько тех, где это число мало — среднее подойдет. Но когда есть оторванные от основной массы лидеры, их результаты сильно смещают значение среднего вверх. Вот почему оценивать в этом случае лучше медианой.\n",
        "\n",
        "![image.png](attachment:image.png)\n",
        "\n",
        "В геометрии медиана делит фигуру на две равные по площади. В статистике она делит выборку пополам: в одной половине значения меньше медианного, в другой больше. Логично, что для определения медианы список обязательно должен быть отсортирован — либо по возрастанию, либо по убыванию.\n",
        "Когда количество значений нечётное, медиана будет равна тому значению, которое оказалось ровно посередине отсортированного набора. Если же количество данных чётное, то медиана рассчитывается как среднее арифметическое двух соседних чисел в середине набора.\n",
        "\n"
      ]
    },
    {
      "cell_type": "markdown",
      "metadata": {
        "id": "i_JC3SkoxV5d"
      },
      "source": [
        "В Pandas есть метод **median()**, который считает медиану. По аналогии с **min()** и **max()** его можно применять ко всей таблице, к отдельному столбцу или к сгруппированным данным. Теперь применим медиану ко всем значениям времени прослушивания в нашей таблице, исключив нулевые:\n",
        "\n"
      ]
    },
    {
      "cell_type": "code",
      "execution_count": 16,
      "metadata": {
        "colab": {
          "base_uri": "https://localhost:8080/"
        },
        "id": "pWjviv3ExV5d",
        "outputId": "13e21e40-5777-40bb-eddf-14dacef7d153"
      },
      "outputs": [
        {
          "output_type": "stream",
          "name": "stdout",
          "text": [
            "7.64\n"
          ]
        }
      ],
      "source": [
        "# Применим медиану к столбцу 'suicides_per_100k_pop', исключив нулевые значения\n",
        "median_suicide_rate = data_cleaned[data_cleaned['suicides_per_100k_pop'] > 0]['suicides_per_100k_pop'].median()\n",
        "\n",
        "# Выводим медиану\n",
        "print(median_suicide_rate)\n"
      ]
    },
    {
      "cell_type": "markdown",
      "metadata": {
        "id": "BNVhPM1rxV5d"
      },
      "source": [
        "Чтобы убедиться, что лидеры действительно смещают средний показатель вверх, найдём среднее арифметическое всех этих значений методом mean():"
      ]
    },
    {
      "cell_type": "code",
      "execution_count": 17,
      "metadata": {
        "colab": {
          "base_uri": "https://localhost:8080/"
        },
        "id": "sm39yV1WxV5d",
        "outputId": "fc35481b-c4fc-40dc-dba9-06720cc47f0d"
      },
      "outputs": [
        {
          "output_type": "stream",
          "name": "stdout",
          "text": [
            "13.917101429166088\n"
          ]
        }
      ],
      "source": [
        "# Рассчитаем среднее арифметическое для столбца 'suicides_per_100k_pop', исключая нулевые значения\n",
        "mean_suicide_rate = data_cleaned[data_cleaned['suicides_per_100k_pop'] > 0]['suicides_per_100k_pop'].mean()\n",
        "\n",
        "# Выводим среднее значение\n",
        "print(mean_suicide_rate)\n"
      ]
    },
    {
      "cell_type": "code",
      "execution_count": null,
      "metadata": {
        "id": "isVOutpQxV5d"
      },
      "outputs": [],
      "source": []
    }
  ],
  "metadata": {
    "kernelspec": {
      "display_name": "Python 3 (ipykernel)",
      "language": "python",
      "name": "python3"
    },
    "language_info": {
      "codemirror_mode": {
        "name": "ipython",
        "version": 3
      },
      "file_extension": ".py",
      "mimetype": "text/x-python",
      "name": "python",
      "nbconvert_exporter": "python",
      "pygments_lexer": "ipython3",
      "version": "3.9.12"
    },
    "colab": {
      "provenance": []
    }
  },
  "nbformat": 4,
  "nbformat_minor": 0
}