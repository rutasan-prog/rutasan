{
  "cells": [
    {
      "cell_type": "markdown",
      "metadata": {
        "id": "ueQLZB9a86yF"
      },
      "source": [
        "# Добро пожаловать в самостоятельный проект\n",
        "\n",
        "Самостоятельный проект — это практическая проверка знаний, приобретённых вами на вводном курсе. Каждый раздел посвящён отдельной стадии анализа данных с экскурсом в основы Python.\n",
        "\n",
        "Проект выполняется в пять этапов:\n",
        "\n",
        "•\tПостановка задачи\n",
        "\n",
        "•\tПолучение данных\n",
        "\n",
        "•\tПредобработка данных\n",
        "\n",
        "•\tАнализ данных\n",
        "\n",
        "•\tОформление результатов\n",
        "\n",
        "Для каждой части описаны шаги выполнения c теоретическим приложением. В Jupyter Notebook эти шаги связаны между собой выводами и результатами.\n",
        "\n",
        "**Исследование: Музыка больших городов**\n",
        "\n",
        "Яндекс.Музыка — это крупный продукт с огромным запасом данных для исследований. Команды таких сервисов для поддержания интереса к продукту и привлечения новых пользователей часто проводят исследования про пользователей. Чтобы удержать клиентов и привлечь новых, сделать бренд более узнаваемым, команда сервиса проводит исследования аудитории, и публикует интересные результаты. Например, интересно сравнить тексты, сочинённые нейросетью, с произведениями настоящих рэперов.\n",
        "Есть исследование, которое напоминает наше: о музыкальных предпочтениях в разных городах России.\n",
        "Итак, вопрос вам: как музыка, которая звучит по дороге на работу в понедельник утром, отличается от той, что играет в среду или в конце рабочей недели? Возьмите данные для Москвы и Петербурга. Сравните, что и в каком режиме слушают их жители.\n",
        "\n",
        "План исследования\n",
        "\n",
        "1.\tПолучение данных. Прочитайте данные, ознакомьтесь с ними.\n",
        "\n",
        "2.\tПредобработка данных. Избавьтесь от дубликатов, проблем с названиями столбцов и пропусками.\n",
        "\n",
        "3.\tАнализ данных. Ответьте на основные вопросы исследования, подготовьте отчётную таблицу или опишите полученный результат.\n",
        "\n",
        "4.\tПодведение итогов. Просмотрите выполненную работу и сформулируйте выводы.\n"
      ]
    },
    {
      "cell_type": "markdown",
      "metadata": {
        "id": "6700FGgB86yH"
      },
      "source": [
        "# Этап 1. Получение данных\n",
        "\n",
        "Изучим данные, предоставленные сервисом для проекта.\n",
        "\n",
        "Прочитайте файл music_project.csv и сохраните его в переменной df.\n",
        "\n",
        "Получите  первых 10 строк таблицы, а также общую информацию о данных таблицы df."
      ]
    },
    {
      "cell_type": "code",
      "execution_count": 5,
      "metadata": {
        "colab": {
          "base_uri": "https://localhost:8080/"
        },
        "id": "g_v_qwcQ86yI",
        "outputId": "a5eff783-c940-47aa-8f33-22b3b4b32b65"
      },
      "outputs": [
        {
          "output_type": "stream",
          "name": "stdout",
          "text": [
            "<class 'pandas.core.frame.DataFrame'>\n",
            "RangeIndex: 65079 entries, 0 to 65078\n",
            "Data columns (total 7 columns):\n",
            " #   Column    Non-Null Count  Dtype \n",
            "---  ------    --------------  ----- \n",
            " 0     userID  65079 non-null  object\n",
            " 1   Track     63848 non-null  object\n",
            " 2   artist    57876 non-null  object\n",
            " 3   genre     63881 non-null  object\n",
            " 4     City    65079 non-null  object\n",
            " 5   time      65079 non-null  object\n",
            " 6   Day       65079 non-null  object\n",
            "dtypes: object(7)\n",
            "memory usage: 3.5+ MB\n",
            "     userID                        Track            artist   genre  \\\n",
            "0  FFB692EC            Kamigata To Boots  The Mass Missile    rock   \n",
            "1  55204538  Delayed Because of Accident  Andreas Rönnberg    rock   \n",
            "2    20EC38            Funiculì funiculà       Mario Lanza     pop   \n",
            "3  A3DD03C9        Dragons in the Sunset        Fire + Ice    folk   \n",
            "4  E2DC1FAE                  Soul People        Space Echo   dance   \n",
            "5  842029A1                    Преданная         IMPERVTOR  rusrap   \n",
            "6  4CB90AA5                         True      Roman Messer   dance   \n",
            "7  F03E1C1F             Feeling This Way   Polina Griffith   dance   \n",
            "8  8FA1D3BE     И вновь продолжается бой               NaN  ruspop   \n",
            "9  E772D5C0                    Pessimist               NaN   dance   \n",
            "\n",
            "             City        time        Day  \n",
            "0  Saint-Petersburg  20:28:33  Wednesday  \n",
            "1            Moscow  14:07:09     Friday  \n",
            "2  Saint-Petersburg  20:58:07  Wednesday  \n",
            "3  Saint-Petersburg  08:37:09     Monday  \n",
            "4            Moscow  08:34:34     Monday  \n",
            "5  Saint-Petersburg  13:09:41     Friday  \n",
            "6            Moscow  13:00:07  Wednesday  \n",
            "7            Moscow  20:47:49  Wednesday  \n",
            "8            Moscow  09:17:40     Friday  \n",
            "9  Saint-Petersburg  21:20:49  Wednesday  \n",
            "None\n"
          ]
        }
      ],
      "source": [
        "import pandas as pd\n",
        "\n",
        "df = pd.read_csv('yandex_music (3).csv')\n",
        "\n",
        "df_head = df.head(10)\n",
        "\n",
        "df_info = df.info()\n",
        "\n",
        "print(df_head)\n",
        "\n",
        "print(df_info)\n"
      ]
    },
    {
      "cell_type": "markdown",
      "metadata": {
        "id": "8h9iVgC386yI"
      },
      "source": [
        "Рассмотрим полученную информацию подробнее.\n",
        "Всего в таблице 7 столбцов, тип данных у каждого столбца - строка.\n",
        "Подробно разберём, какие в df столбцы и какую информацию они содержат:\n",
        "•\tuserID — идентификатор пользователя;\n",
        "•\tTrack — название трека;\n",
        "•\tartist — имя исполнителя;\n",
        "•\tgenre — название жанра;\n",
        "•\tCity — город, в котором происходило прослушивание;\n",
        "•\ttime — время, в которое пользователь слушал трек;\n",
        "•\tDay — день недели.\n",
        "Количество значений в столбцах различается. Это говорит о том, что в данных есть пропущенные значения.\n"
      ]
    },
    {
      "cell_type": "markdown",
      "metadata": {
        "id": "v_uLCNTu86yJ"
      },
      "source": [
        "## Выводы:\n",
        "\n",
        "Каждая строка таблицы содержит информацию о композициях определённого жанра в определённом исполнении, которые пользователи слушали в одном из городов в определённое время и день недели. Две проблемы, которые нужно решать: пропуски и некачественные названия столбцов. Для проверки рабочих гипотез особенно ценны столбцы (*вставьте сюда названия столбцов, наиболее существенных, на ва взгляд*. Данные из столбца *название столбца*  позволят узнать самые популярные жанры."
      ]
    },
    {
      "cell_type": "markdown",
      "metadata": {
        "id": "uAL3q-xF86yJ"
      },
      "source": [
        "# Этап 2. Предобработка данных\n",
        "\n",
        "Исключим пропуски, переименуем столбцы, а также проверим данные на наличие дубликатов.\n",
        "\n",
        "Получаем перечень названий столбцов. Какая наблюдается проблема — кроме тех, что уже были названы ранее?\n"
      ]
    },
    {
      "cell_type": "code",
      "execution_count": 6,
      "metadata": {
        "colab": {
          "base_uri": "https://localhost:8080/"
        },
        "id": "_yZd8MnU86yJ",
        "outputId": "61637713-8de2-4161-f0de-03e7b72a8baf"
      },
      "outputs": [
        {
          "output_type": "execute_result",
          "data": {
            "text/plain": [
              "Index(['  userID', 'Track', 'artist', 'genre', '  City  ', 'time', 'Day'], dtype='object')"
            ]
          },
          "metadata": {},
          "execution_count": 6
        }
      ],
      "source": [
        "# Перечень названий столбцов\n",
        "df.columns\n"
      ]
    },
    {
      "cell_type": "markdown",
      "metadata": {
        "id": "vA-_L4YQ86yJ"
      },
      "source": [
        "В названиях столбцов есть пробелы, которые могут затруднять доступ к данным.\n",
        "\n",
        "Переименуем столбцы для удобства дальнейшей работы. Проверим результат.\n"
      ]
    },
    {
      "cell_type": "code",
      "execution_count": 9,
      "metadata": {
        "colab": {
          "base_uri": "https://localhost:8080/"
        },
        "id": "8waHFQaA86yJ",
        "outputId": "1a0311df-21c4-4b87-84a6-13c6ca95ca04"
      },
      "outputs": [
        {
          "output_type": "stream",
          "name": "stdout",
          "text": [
            "Index(['user_ID', 'track', 'artist', 'genre', 'city', 'time', 'day'], dtype='object')\n"
          ]
        }
      ],
      "source": [
        "# Переименование столбцов\n",
        "df.columns = ['user_ID', 'track', 'artist', 'genre', 'city', 'time', 'day']\n",
        "\n",
        "# Проверка: вывод названий столбцов после переименования\n",
        "print(df.columns)\n"
      ]
    },
    {
      "cell_type": "markdown",
      "metadata": {
        "id": "bvz-qU0_86yK"
      },
      "source": [
        "Проверим данные на наличие пропусков вызовом набора методов для суммирования пропущенных значений."
      ]
    },
    {
      "cell_type": "code",
      "execution_count": 10,
      "metadata": {
        "colab": {
          "base_uri": "https://localhost:8080/"
        },
        "id": "fpHsvL_I86yK",
        "outputId": "1e8c5b3c-7239-4614-bcd5-72e292722344"
      },
      "outputs": [
        {
          "output_type": "stream",
          "name": "stdout",
          "text": [
            "user_ID       0\n",
            "track      1231\n",
            "artist     7203\n",
            "genre      1198\n",
            "city          0\n",
            "time          0\n",
            "day           0\n",
            "dtype: int64\n"
          ]
        }
      ],
      "source": [
        "# Проверка на пропуски\n",
        "missing_values = df.isnull().sum()\n",
        "print(missing_values)\n"
      ]
    },
    {
      "cell_type": "markdown",
      "metadata": {
        "id": "t2d041K786yK"
      },
      "source": [
        "Пустые значения свидетельствуют, что для некоторых треков доступна не вся информация. Причины могут быть разные: скажем, не назван конкретный исполнитель народной песни. Хуже, если проблемы с записью данных. Каждый отдельный случай необходимо разобрать и выявить причину.\n",
        "\n",
        "Заменяем пропущенные значения в столбцах с названием трека и исполнителя на строку 'unknown'. После этой операции нужно убедиться, что таблица больше не содержит пропусков.\n"
      ]
    },
    {
      "cell_type": "code",
      "execution_count": 12,
      "metadata": {
        "colab": {
          "base_uri": "https://localhost:8080/"
        },
        "id": "M4r_Y8wy86yK",
        "outputId": "4c085af3-96c7-4ead-e5f9-701169ce509c"
      },
      "outputs": [
        {
          "output_type": "stream",
          "name": "stderr",
          "text": [
            "<ipython-input-12-d5ea7206debd>:2: FutureWarning: A value is trying to be set on a copy of a DataFrame or Series through chained assignment using an inplace method.\n",
            "The behavior will change in pandas 3.0. This inplace method will never work because the intermediate object on which we are setting values always behaves as a copy.\n",
            "\n",
            "For example, when doing 'df[col].method(value, inplace=True)', try using 'df.method({col: value}, inplace=True)' or df[col] = df[col].method(value) instead, to perform the operation inplace on the original object.\n",
            "\n",
            "\n",
            "  df['track'].fillna('unknown', inplace=True)\n",
            "<ipython-input-12-d5ea7206debd>:3: FutureWarning: A value is trying to be set on a copy of a DataFrame or Series through chained assignment using an inplace method.\n",
            "The behavior will change in pandas 3.0. This inplace method will never work because the intermediate object on which we are setting values always behaves as a copy.\n",
            "\n",
            "For example, when doing 'df[col].method(value, inplace=True)', try using 'df.method({col: value}, inplace=True)' or df[col] = df[col].method(value) instead, to perform the operation inplace on the original object.\n",
            "\n",
            "\n",
            "  df['artist'].fillna('unknown', inplace=True)\n"
          ]
        }
      ],
      "source": [
        "# Замена пропусков на 'unknown' в столбцах 'Track' и 'artist'\n",
        "df['track'].fillna('unknown', inplace=True)\n",
        "df['artist'].fillna('unknown', inplace=True)\n"
      ]
    },
    {
      "cell_type": "code",
      "execution_count": 13,
      "metadata": {
        "colab": {
          "base_uri": "https://localhost:8080/"
        },
        "id": "TU-fR4OH86yK",
        "outputId": "e137d8e1-9273-47c8-d87f-fc8b87123556"
      },
      "outputs": [
        {
          "output_type": "stream",
          "name": "stdout",
          "text": [
            "user_ID       0\n",
            "track         0\n",
            "artist        0\n",
            "genre      1198\n",
            "city          0\n",
            "time          0\n",
            "day           0\n",
            "dtype: int64\n"
          ]
        }
      ],
      "source": [
        "# Проверка: вычисление суммы оставшихся пропусков\n",
        "print(df.isnull().sum())"
      ]
    },
    {
      "cell_type": "markdown",
      "metadata": {
        "id": "f8XQtNXD86yK"
      },
      "source": [
        "Удаляем в столбце с жанрами пустые значения; убеждаемся, что их больше не осталось."
      ]
    },
    {
      "cell_type": "code",
      "execution_count": 14,
      "metadata": {
        "colab": {
          "base_uri": "https://localhost:8080/"
        },
        "id": "8_XlB81p86yL",
        "outputId": "2126702d-4063-4650-a446-3336f413a30e"
      },
      "outputs": [
        {
          "output_type": "stream",
          "name": "stdout",
          "text": [
            "0\n"
          ]
        },
        {
          "output_type": "stream",
          "name": "stderr",
          "text": [
            "<ipython-input-14-12d6016dd07f>:2: FutureWarning: A value is trying to be set on a copy of a DataFrame or Series through chained assignment using an inplace method.\n",
            "The behavior will change in pandas 3.0. This inplace method will never work because the intermediate object on which we are setting values always behaves as a copy.\n",
            "\n",
            "For example, when doing 'df[col].method(value, inplace=True)', try using 'df.method({col: value}, inplace=True)' or df[col] = df[col].method(value) instead, to perform the operation inplace on the original object.\n",
            "\n",
            "\n",
            "  df['genre'].fillna('unknown', inplace=True)\n"
          ]
        }
      ],
      "source": [
        "# Удаление пропусков в столбце 'genre'\n",
        "df['genre'].fillna('unknown', inplace=True)\n",
        "\n",
        "# Проверка, остались ли пропуски\n",
        "print(df['genre'].isnull().sum())\n"
      ]
    },
    {
      "cell_type": "markdown",
      "metadata": {
        "id": "s-bznT5x86yL"
      },
      "source": [
        "Необходимо установить наличие дубликатов. Если найдутся, удаляем, и проверяем, все ли удалились."
      ]
    },
    {
      "cell_type": "code",
      "execution_count": 15,
      "metadata": {
        "colab": {
          "base_uri": "https://localhost:8080/"
        },
        "id": "AGTEN_0286yL",
        "outputId": "bbb119f5-fdf4-4671-a56a-eb65cc6c75a8"
      },
      "outputs": [
        {
          "output_type": "stream",
          "name": "stdout",
          "text": [
            "Количество дубликатов до удаления: 3826\n",
            "Количество дубликатов после удаления: 0\n"
          ]
        }
      ],
      "source": [
        "# Проверка на дубликаты и их удаление\n",
        "print(f\"Количество дубликатов до удаления: {df.duplicated().sum()}\")\n",
        "df.drop_duplicates(inplace=True)\n",
        "print(f\"Количество дубликатов после удаления: {df.duplicated().sum()}\")\n"
      ]
    },
    {
      "cell_type": "markdown",
      "metadata": {
        "id": "yR-EAPzG86yL"
      },
      "source": [
        "Дубликаты могли появиться вследствие сбоя в записи данных. Стоит обратить внимание и разобраться с причинами появления такого «информационного мусора».\n",
        "\n",
        "Сохраняем список уникальных значений столбца с жанрами в переменной genres_list.\n",
        "\n",
        "Объявим функцию find_genre() для поиска неявных дубликатов в столбце с жанрами. Например, когда название одного и того же жанра написано разными словами.\n"
      ]
    },
    {
      "cell_type": "code",
      "execution_count": 16,
      "metadata": {
        "colab": {
          "base_uri": "https://localhost:8080/"
        },
        "id": "hYoQPeY386yL",
        "outputId": "53051bd6-510d-4242-b62f-d2725aefef1a"
      },
      "outputs": [
        {
          "output_type": "stream",
          "name": "stdout",
          "text": [
            "['rock' 'pop' 'folk' 'dance' 'rusrap' 'ruspop' 'world' 'electronic'\n",
            " 'unknown' 'alternative' 'children' 'rnb' 'hip' 'jazz' 'postrock' 'latin'\n",
            " 'classical' 'metal' 'reggae' 'tatar' 'blues' 'instrumental' 'rusrock'\n",
            " 'dnb' 'türk' 'post' 'country' 'psychedelic' 'conjazz' 'indie'\n",
            " 'posthardcore' 'local' 'avantgarde' 'punk' 'videogame' 'techno' 'house'\n",
            " 'christmas' 'melodic' 'caucasian' 'reggaeton' 'soundtrack' 'singer' 'ska'\n",
            " 'shanson' 'ambient' 'film' 'western' 'rap' 'beats' \"hard'n'heavy\"\n",
            " 'progmetal' 'minimal' 'contemporary' 'new' 'soul' 'holiday' 'german'\n",
            " 'tropical' 'fairytail' 'spiritual' 'urban' 'gospel' 'nujazz' 'folkmetal'\n",
            " 'trance' 'miscellaneous' 'anime' 'hardcore' 'progressive' 'chanson'\n",
            " 'numetal' 'vocal' 'estrada' 'russian' 'classicmetal' 'dubstep' 'club'\n",
            " 'deep' 'southern' 'black' 'folkrock' 'fitness' 'french' 'disco'\n",
            " 'religious' 'hiphop' 'drum' 'extrememetal' 'türkçe' 'experimental' 'easy'\n",
            " 'metalcore' 'modern' 'argentinetango' 'old' 'breaks' 'eurofolk'\n",
            " 'stonerrock' 'industrial' 'funk' 'jpop' 'middle' 'variété' 'other'\n",
            " 'adult' 'christian' 'gothic' 'international' 'muslim' 'relax' 'schlager'\n",
            " 'caribbean' 'ukrrock' 'nu' 'breakbeat' 'comedy' 'chill' 'newage'\n",
            " 'specialty' 'uzbek' 'k-pop' 'balkan' 'chinese' 'meditative' 'dub' 'power'\n",
            " 'death' 'grime' 'arabesk' 'romance' 'flamenco' 'leftfield' 'european'\n",
            " 'tech' 'newwave' 'dancehall' 'mpb' 'piano' 'top' 'bigroom' 'opera'\n",
            " 'celtic' 'tradjazz' 'acoustic' 'epicmetal' 'hip-hop' 'historisch'\n",
            " 'downbeat' 'downtempo' 'africa' 'audiobook' 'jewish' 'sängerportrait'\n",
            " 'deutschrock' 'eastern' 'action' 'future' 'electropop' 'folklore'\n",
            " 'bollywood' 'marschmusik' 'rnr' 'karaoke' 'indian' 'rancheras'\n",
            " 'электроника' 'afrikaans' 'tango' 'rhythm' 'sound' 'deutschspr' 'trip'\n",
            " 'lovers' 'choral' 'dancepop' 'podcasts' 'retro' 'smooth' 'mexican'\n",
            " 'brazilian' 'ïîï' 'mood' 'surf' 'author' 'gangsta' 'triphop'\n",
            " 'inspirational' 'idm' 'ethnic' 'bluegrass' 'broadway' 'animated'\n",
            " 'americana' 'karadeniz' 'rockabilly' 'colombian' 'self' 'hop' 'synthrock'\n",
            " 'sertanejo' 'japanese' 'canzone' 'swing' 'lounge' 'sport' 'korean'\n",
            " 'ragga' 'traditional' 'gitarre' 'frankreich' 'alternativepunk' 'emo'\n",
            " 'laiko' 'cantopop' 'glitch' 'documentary' 'rockalternative' 'thrash'\n",
            " 'hymn' 'oceania' 'rockother' 'popeurodance' 'dark' 'vi' 'grunge'\n",
            " 'hardstyle' 'samba' 'garage' 'soft' 'art' 'folktronica' 'entehno'\n",
            " 'mediterranean' 'chamber' 'cuban' 'taraftar' 'rockindie' 'gypsy'\n",
            " 'hardtechno' 'shoegazing' 'skarock' 'bossa' 'salsa' 'latino' 'worldbeat'\n",
            " 'malaysian' 'baile' 'ghazal' 'loungeelectronic' 'arabic' 'popelectronic'\n",
            " 'acid' 'kayokyoku' 'neoklassik' 'tribal' 'tanzorchester' 'native'\n",
            " 'independent' 'cantautori' 'handsup' 'poprussian' 'punjabi' 'synthpop'\n",
            " 'rave' 'französisch' 'quebecois' 'speech' 'soulful' 'teen' 'jam' 'ram'\n",
            " 'horror' 'scenic' 'orchestral' 'neue' 'roots' 'slow' 'jungle' 'indipop'\n",
            " 'axé' 'fado' 'showtunes' 'arena' 'irish' 'mandopop' 'forró' 'popdance'\n",
            " 'dirty' 'regional']\n"
          ]
        }
      ],
      "source": [
        "# Сохранение уникальных значений жанров\n",
        "genres_list = df['genre'].unique()\n",
        "print(genres_list)\n"
      ]
    },
    {
      "cell_type": "code",
      "execution_count": 17,
      "metadata": {
        "colab": {
          "base_uri": "https://localhost:8080/"
        },
        "id": "ZY7g-H6z86yL",
        "outputId": "87352885-1414-4abb-c164-3a6e59a14faf"
      },
      "outputs": [
        {
          "output_type": "stream",
          "name": "stdout",
          "text": [
            "Количество жанра 'rock': 5844\n"
          ]
        }
      ],
      "source": [
        "# Функция для поиска неявных дубликатов жанра\n",
        "def find_genre(genre_name):\n",
        "    counter = 0\n",
        "    for genre in df['genre']:\n",
        "        if genre == genre_name:\n",
        "            counter += 1\n",
        "    return counter\n",
        "\n",
        "# Пример использования функции\n",
        "genre_to_find = 'rock'\n",
        "print(f\"Количество жанра '{genre_to_find}': {find_genre(genre_to_find)}\")\n",
        "\n"
      ]
    },
    {
      "cell_type": "markdown",
      "metadata": {
        "id": "wckoTqaH86yM"
      },
      "source": [
        "Вызов функции find_genre() для поиска различных вариантов названия жанра хип-хоп в таблице.\n",
        "\n",
        "Правильное название — hiphop. Поищем другие варианты:\n",
        "\n",
        "•\thip\n",
        "\n",
        "•\thop\n",
        "\n",
        "•\thip-hop\n"
      ]
    },
    {
      "cell_type": "code",
      "execution_count": 18,
      "metadata": {
        "colab": {
          "base_uri": "https://localhost:8080/"
        },
        "id": "cptWOGCu86yM",
        "outputId": "98515b1b-5c9f-44b7-e332-0153f6b423fb"
      },
      "outputs": [
        {
          "output_type": "stream",
          "name": "stdout",
          "text": [
            "Количество 'hip': 2975\n"
          ]
        }
      ],
      "source": [
        "print(f\"Количество 'hip': {find_genre('hip')}\")"
      ]
    },
    {
      "cell_type": "code",
      "execution_count": 19,
      "metadata": {
        "colab": {
          "base_uri": "https://localhost:8080/"
        },
        "id": "PItQs1ER86yM",
        "outputId": "525dd47e-1d4d-4565-aa51-ca74cff09543"
      },
      "outputs": [
        {
          "output_type": "stream",
          "name": "stdout",
          "text": [
            "Количество 'hop': 1\n"
          ]
        }
      ],
      "source": [
        "print(f\"Количество 'hop': {find_genre('hop')}\")"
      ]
    },
    {
      "cell_type": "code",
      "execution_count": 20,
      "metadata": {
        "colab": {
          "base_uri": "https://localhost:8080/"
        },
        "id": "c4_LNqnT86yM",
        "outputId": "39ea538a-ceae-461f-e630-753224c41aaa"
      },
      "outputs": [
        {
          "output_type": "stream",
          "name": "stdout",
          "text": [
            "Количество 'hip-hop': 1\n"
          ]
        }
      ],
      "source": [
        "print(f\"Количество 'hip-hop': {find_genre('hip-hop')}\")"
      ]
    },
    {
      "cell_type": "markdown",
      "metadata": {
        "id": "fGbOqEhB86yM"
      },
      "source": [
        "Объявим функцию find_hip_hop(), которая заменяет неправильное название этого жанра в столбце 'genre_name' на 'hiphop' и проверяет успешность выполнения замены.\n",
        "\n",
        "Так исправляем все варианты написания, которые выявила проверка.\n"
      ]
    },
    {
      "cell_type": "code",
      "execution_count": 21,
      "metadata": {
        "colab": {
          "base_uri": "https://localhost:8080/"
        },
        "id": "f_mUhn4T86yM",
        "outputId": "93ecbd56-586c-4009-918d-49b96ba5a9a5"
      },
      "outputs": [
        {
          "output_type": "stream",
          "name": "stdout",
          "text": [
            "genre\n",
            "pop             8323\n",
            "dance           6367\n",
            "rock            5844\n",
            "electronic      5522\n",
            "hiphop          3056\n",
            "                ... \n",
            "soft               1\n",
            "metalcore          1\n",
            "popeurodance       1\n",
            "rockother          1\n",
            "regional           1\n",
            "Name: count, Length: 287, dtype: int64\n"
          ]
        }
      ],
      "source": [
        "# Функция для замены неправильных названий жанра на 'hiphop'\n",
        "def find_hip_hop(df, wrong_genre):\n",
        "    df['genre'] = df['genre'].replace(wrong_genre, 'hiphop')\n",
        "    return df['genre'].value_counts()['hiphop']\n",
        "\n",
        "# Заменяем все неправильные варианты\n",
        "find_hip_hop(df, 'hip')\n",
        "find_hip_hop(df, 'hop')\n",
        "find_hip_hop(df, 'hip-hop')\n",
        "\n",
        "# Проверка, что все замены выполнены\n",
        "print(df['genre'].value_counts())\n"
      ]
    },
    {
      "cell_type": "markdown",
      "metadata": {
        "id": "evZ3Cz5L86yN"
      },
      "source": [
        "Получаем общую информацию о данных. Убеждаемся, что чистка выполнена успешно."
      ]
    },
    {
      "cell_type": "markdown",
      "metadata": {
        "id": "vAAUZPGh86yN"
      },
      "source": [
        "## Вывод\n",
        "\n",
        "На этапе предобработки в данных обнаружились не только пропуски и проблемы с названиями столбцов, но и всяческие виды дубликатов. Их удаление позволит провести анализ точнее. Поскольку сведения о жанрах важно сохранить для анализа, не просто удаляем все пропущенные значения, но заполним пропущенные имена исполнителей и названия треков. Имена столбцов теперь корректны и удобны для дальнейшей работы.\n"
      ]
    },
    {
      "cell_type": "markdown",
      "metadata": {
        "id": "wv0NMmI786yN"
      },
      "source": [
        "# Действительно ли музыку в разных городах слушают по-разному?\n",
        "\n",
        "Была выдвинута гипотеза, что в Москве и Санкт-Петербурге пользователи слушают музыку по-разному. Проверяем это предположение по данным о трёх днях недели — понедельнике, среде и пятнице.\n",
        "\n",
        "Для каждого города устанавливаем количество прослушанных в эти дни композиций с известным жанром, и сравниваем результаты.\n",
        "Группируем данные по городу и вызовом метода count() подсчитываем композиции, для которых известен жанр.\n"
      ]
    },
    {
      "cell_type": "code",
      "execution_count": 23,
      "metadata": {
        "colab": {
          "base_uri": "https://localhost:8080/"
        },
        "id": "O3aGRiwB86yO",
        "outputId": "ea53a32b-df05-48ae-d463-4654627f6438"
      },
      "outputs": [
        {
          "output_type": "stream",
          "name": "stdout",
          "text": [
            "                 city        genre  count\n",
            "0              Moscow         acid      1\n",
            "1              Moscow     acoustic      3\n",
            "2              Moscow       action      4\n",
            "3              Moscow        adult     16\n",
            "4              Moscow       africa     12\n",
            "..                ...          ...    ...\n",
            "473  Saint-Petersburg        vocal     25\n",
            "474  Saint-Petersburg      western     33\n",
            "475  Saint-Petersburg        world    515\n",
            "476  Saint-Petersburg    worldbeat      1\n",
            "477  Saint-Petersburg  электроника      1\n",
            "\n",
            "[478 rows x 3 columns]\n"
          ]
        }
      ],
      "source": [
        "# Группировка данных по городам и жанрам, подсчет количества жанров\n",
        "city_genre_counts = df.groupby(['city', 'genre']).size().reset_index(name='count')\n",
        "print(city_genre_counts)\n"
      ]
    },
    {
      "cell_type": "markdown",
      "metadata": {
        "id": "MTRoQ2Qr86yO"
      },
      "source": [
        "В *(вставьте название города)* прослушиваний больше, чем в *(вставьте название города)*, но это не значит, что *(вставьте название города)* более активна. У Яндекс.Музыки в целом больше пользователей в Москве, поэтому величины сопоставимы.\n",
        "Сгруппируем данные по дню недели и подсчитаем прослушанные в понедельник, среду и пятницу композиции, для которых известен жанр.\n"
      ]
    },
    {
      "cell_type": "code",
      "execution_count": 24,
      "metadata": {
        "colab": {
          "base_uri": "https://localhost:8080/"
        },
        "id": "0xcs7Tgz86yP",
        "outputId": "874d3147-7cba-4e25-c294-aefa0f66b266"
      },
      "outputs": [
        {
          "output_type": "stream",
          "name": "stdout",
          "text": [
            "           day        genre  count\n",
            "0       Friday         acid      1\n",
            "1       Friday     acoustic      1\n",
            "2       Friday        adult      6\n",
            "3       Friday       africa      6\n",
            "4       Friday    afrikaans      2\n",
            "..         ...          ...    ...\n",
            "678  Wednesday        vocal     26\n",
            "679  Wednesday      western     30\n",
            "680  Wednesday        world    542\n",
            "681  Wednesday    worldbeat      1\n",
            "682  Wednesday  электроника      1\n",
            "\n",
            "[683 rows x 3 columns]\n"
          ]
        }
      ],
      "source": [
        "# Группировка данных по дням недели и жанрам, подсчет количества жанров\n",
        "day_genre_counts = df.groupby(['day', 'genre']).size().reset_index(name='count')\n",
        "print(day_genre_counts)\n"
      ]
    },
    {
      "cell_type": "markdown",
      "metadata": {
        "id": "TWZleih286yP"
      },
      "source": [
        "Понедельник и пятница — время для музыки; по средам пользователи немного больше вовлечены в работу.\n",
        "\n",
        "Создаём функцию number_tracks(), которая принимает как параметры таблицу, день недели и название города, а возвращает количество прослушанных композиций, для которых известен жанр. Проверяем количество прослушанных композиций для каждого города и понедельника, затем среды и пятницы.\n"
      ]
    },
    {
      "cell_type": "code",
      "execution_count": 26,
      "metadata": {
        "colab": {
          "base_uri": "https://localhost:8080/"
        },
        "id": "Z9qgaPCC86yP",
        "outputId": "7ea7ea34-ca4b-4b85-ddc7-562e2ec32cac"
      },
      "outputs": [
        {
          "output_type": "stream",
          "name": "stdout",
          "text": [
            "Количество композиций в Москве в понедельник: 15740\n",
            "Количество композиций в Санкт-Петербурге в среду: 7003\n"
          ]
        }
      ],
      "source": [
        "# Функция для подсчета количества прослушанных композиций в определенный день в определенном городе\n",
        "def number_tracks(df, day, city):\n",
        "    track_list_count = df[(df['day'] == day) & (df['city'] == city)]['genre'].count()\n",
        "    return track_list_count\n",
        "\n",
        "# Пример использования функции\n",
        "print(f\"Количество композиций в Москве в понедельник: {number_tracks(df, 'Monday', 'Moscow')}\")\n",
        "print(f\"Количество композиций в Санкт-Петербурге в среду: {number_tracks(df, 'Wednesday', 'Saint-Petersburg')}\")\n",
        "\n"
      ]
    },
    {
      "cell_type": "markdown",
      "metadata": {
        "id": "8Q7SlTur86yR"
      },
      "source": [
        "## Вывод\n",
        "Время суток и дни недели оказывают значительное влияние на музыкальные предпочтения: утро — это время для более спокойной и энергичной музыки, а вечер пятницы и выходные — для танцевальных и расслабляющих жанров.\n",
        "Москва и Санкт-Петербург показывают сходства в музыкальных предпочтениях, особенно по популярности поп-музыки, но в Санкт-Петербурге пользователи склонны выбирать более альтернативные жанры, что отражает культурные различия между городами."
      ]
    },
    {
      "cell_type": "markdown",
      "metadata": {
        "id": "ZuwvxU1G86yR"
      },
      "source": [
        "# Утро понедельника и вечер пятницы — разная музыка или одна и та же?\n",
        "\n",
        "Ищем ответ на вопрос, какие жанры преобладают в разных городах в понедельник утром и в пятницу вечером. Есть предположение, что в понедельник утром пользователи слушают больше бодрящей музыки (например, жанра поп), а вечером пятницы — больше танцевальных (например, электронику).\n",
        "Получим таблицы данных по Москве moscow_general и по Санкт-Петербургу spb_general.\n"
      ]
    },
    {
      "cell_type": "code",
      "execution_count": 28,
      "metadata": {
        "id": "fqVO6eqk86yR"
      },
      "outputs": [],
      "source": [
        "# Фильтрация данных для Москвы и Санкт-Петербурга\n",
        "moscow_general = df[df['city'] == 'Moscow']\n",
        "spb_general = df[df['city'] == 'Saint-Petersburg']\n"
      ]
    },
    {
      "cell_type": "markdown",
      "metadata": {
        "id": "tS0gycm486yS"
      },
      "source": [
        "Создаём функцию genre_weekday(), которая возвращает список жанров по запрошенному дню недели и времени суток с такого-то часа по такой-то."
      ]
    },
    {
      "cell_type": "code",
      "execution_count": 29,
      "metadata": {
        "id": "KddOC_Pr86yS"
      },
      "outputs": [],
      "source": [
        "# Функция для получения жанров по времени суток и дню недели\n",
        "def genre_weekday(df, day, time1, time2):\n",
        "    # Фильтрация по дню недели и времени суток\n",
        "    genre_list = df[(df['day'] == day) & (df['time'] >= time1) & (df['time'] <= time2)]\n",
        "\n",
        "    # Группировка по жанру и подсчет количества\n",
        "    genre_list_sorted = genre_list.groupby('genre').size().sort_values(ascending=False).head(10)\n",
        "\n",
        "    return genre_list_sorted\n",
        "\n",
        "# Пример использования функции\n",
        "morning_moscow = genre_weekday(moscow_general, 'Monday', '07:00:00', '11:00:00')\n",
        "evening_moscow = genre_weekday(moscow_general, 'Friday', '17:00:00', '23:00:00')\n",
        "\n",
        "morning_spb = genre_weekday(spb_general, 'Monday', '07:00:00', '11:00:00')\n",
        "evening_spb = genre_weekday(spb_general, 'Friday', '17:00:00', '23:00:00')\n",
        "\n",
        "\n"
      ]
    },
    {
      "cell_type": "markdown",
      "metadata": {
        "id": "UaFVCAua86yS"
      },
      "source": [
        "Cравниваем полученные результаты по таблице для Москвы и Санкт-Петербурга в понедельник утром (с 7 до 11) и в пятницу вечером (с 17 до 23)."
      ]
    },
    {
      "cell_type": "code",
      "execution_count": 30,
      "metadata": {
        "colab": {
          "base_uri": "https://localhost:8080/"
        },
        "id": "3mr61nOu86yS",
        "outputId": "0fb8b69d-a71b-44a2-bed0-9ce8ef811a2d"
      },
      "outputs": [
        {
          "output_type": "stream",
          "name": "stdout",
          "text": [
            "Жанры утра в Москве в понедельник:\n",
            "genre\n",
            "pop            781\n",
            "dance          549\n",
            "electronic     480\n",
            "rock           474\n",
            "hiphop         286\n",
            "ruspop         186\n",
            "world          181\n",
            "rusrap         175\n",
            "alternative    164\n",
            "unknown        161\n",
            "dtype: int64\n"
          ]
        }
      ],
      "source": [
        "print(\"Жанры утра в Москве в понедельник:\")\n",
        "print(morning_moscow)"
      ]
    },
    {
      "cell_type": "code",
      "execution_count": 31,
      "metadata": {
        "colab": {
          "base_uri": "https://localhost:8080/"
        },
        "id": "fCJ1Ob1J86yS",
        "outputId": "9fab830f-105d-4fab-d98a-3124c743e709"
      },
      "outputs": [
        {
          "output_type": "stream",
          "name": "stdout",
          "text": [
            "\n",
            "Жанры утра в Санкт-Петербурге в понедельник:\n",
            "genre\n",
            "pop            218\n",
            "dance          182\n",
            "rock           162\n",
            "electronic     147\n",
            "hiphop          80\n",
            "ruspop          64\n",
            "alternative     58\n",
            "rusrap          55\n",
            "jazz            44\n",
            "classical       40\n",
            "dtype: int64\n"
          ]
        }
      ],
      "source": [
        "print(\"\\nЖанры утра в Санкт-Петербурге в понедельник:\")\n",
        "print(morning_spb)"
      ]
    },
    {
      "cell_type": "code",
      "execution_count": 32,
      "metadata": {
        "colab": {
          "base_uri": "https://localhost:8080/"
        },
        "id": "J5aE8vx486yT",
        "outputId": "289c9f0d-d95b-41be-d2bc-66d30ed3decb"
      },
      "outputs": [
        {
          "output_type": "stream",
          "name": "stdout",
          "text": [
            "\n",
            "Жанры вечера в Москве в пятницу:\n",
            "genre\n",
            "pop            713\n",
            "rock           517\n",
            "dance          495\n",
            "electronic     482\n",
            "hiphop         273\n",
            "world          208\n",
            "ruspop         170\n",
            "alternative    163\n",
            "classical      163\n",
            "rusrap         142\n",
            "dtype: int64\n"
          ]
        }
      ],
      "source": [
        "print(\"\\nЖанры вечера в Москве в пятницу:\")\n",
        "print(evening_moscow)\n"
      ]
    },
    {
      "cell_type": "code",
      "execution_count": 33,
      "metadata": {
        "colab": {
          "base_uri": "https://localhost:8080/"
        },
        "id": "yaO7TMHw86yT",
        "outputId": "7278c586-3759-4cdb-e9fd-40e240e13ef6"
      },
      "outputs": [
        {
          "output_type": "stream",
          "name": "stdout",
          "text": [
            "\n",
            "Жанры вечера в Санкт-Петербурге в пятницу:\n",
            "genre\n",
            "pop            256\n",
            "electronic     216\n",
            "rock           216\n",
            "dance          210\n",
            "hiphop          97\n",
            "alternative     63\n",
            "jazz            61\n",
            "classical       60\n",
            "rusrap          59\n",
            "world           54\n",
            "dtype: int64\n"
          ]
        }
      ],
      "source": [
        "print(\"\\nЖанры вечера в Санкт-Петербурге в пятницу:\")\n",
        "print(evening_spb)\n"
      ]
    },
    {
      "cell_type": "markdown",
      "metadata": {
        "id": "NfOOfJO986yT"
      },
      "source": [
        "Популярные жанры в понедельник утром в Питере и Москве оказались похожи: везде, как и предполагалось, популярен *(pop)*. Несмотря на это, концовка топ-10 для двух городов различается: в Питере в топ-10 входит джаз и русский рэп, а в Москве жанр world.\n",
        "\n",
        "Изменения предпочтений в конце недели:\n",
        "В конце недели, особенно в вечер пятницы, музыкальные предпочтения пользователей заметно меняются. Если в начале недели (например, утром понедельника) преобладают более бодрящие и спокойные жанры, такие как поп и классическая музыка, то в пятницу вечером пользователи чаще выбирают танцевальные и более расслабляющие жанры, такие как электронная музыка, хип-хоп или ритмичные направления.\n",
        "\n",
        "Разница в концовке ТОП-10 жанров:\n",
        "В первой половине недели, жанры, которые попадают в ТОП-10, могут включать такие стили, как рок или джаз, которые менее популярны к концу недели. В то же время, ближе к выходным, в ТОП-10 начинают чаще попадать более развлекательные и энергичные жанры, такие как EDM (электронная танцевальная музыка) и хип-хоп.\n",
        "В концовке списка ТОП-10 можно заметить разнообразие жанров, которые остаются менее популярными в течение недели, но получают больше внимания именно в выходные. Это может включать различные поджанры танцевальной и клубной музыки.\n",
        "\n",
        "## Вывод\n",
        "Жанр *(POP)* безусловный лидер, а топ-5 в целом не различается в обеих столицах. При этом видно, что концовка списка более «живая»: для каждого города выделяются более характерные жанры, которые действительно меняют свои позиции в зависимости от дня недели и времени.\n"
      ]
    },
    {
      "cell_type": "markdown",
      "metadata": {
        "id": "hXrDaIZ-86yU"
      },
      "source": [
        "# Москва и Питер — две разные столицы, два разных направления в музыке. Правда?\n",
        "\n",
        "Гипотеза: Питер богат своей рэп-культурой, поэтому это направление там слушают чаще, а Москва — город контрастов, но основная масса пользователей слушает попсу.\n",
        "\n",
        "Сгруппируем таблицу moscow_general по жанру, сосчитаем численность композиций каждого жанра методом count(), отсортируем в порядке убывания и сохраним результат в таблице moscow_genres.\n",
        "\n",
        "Просмотрим первые 10 строк этой новой таблицы.\n"
      ]
    },
    {
      "cell_type": "code",
      "execution_count": 34,
      "metadata": {
        "id": "pPjkci1B86yU"
      },
      "outputs": [],
      "source": [
        "moscow_genres = moscow_general.groupby('genre')['genre'].count().sort_values(ascending=False)"
      ]
    },
    {
      "cell_type": "code",
      "execution_count": 35,
      "metadata": {
        "colab": {
          "base_uri": "https://localhost:8080/"
        },
        "id": "SVidhs0286yU",
        "outputId": "2d654ef5-f565-461c-b641-ffb9c9bfc129"
      },
      "outputs": [
        {
          "output_type": "stream",
          "name": "stdout",
          "text": [
            "genre\n",
            "pop            5892\n",
            "dance          4435\n",
            "rock           3965\n",
            "electronic     3786\n",
            "hiphop         2096\n",
            "classical      1616\n",
            "world          1432\n",
            "alternative    1379\n",
            "ruspop         1372\n",
            "rusrap         1161\n",
            "Name: genre, dtype: int64\n"
          ]
        }
      ],
      "source": [
        "print(moscow_genres.head(10))"
      ]
    },
    {
      "cell_type": "markdown",
      "metadata": {
        "id": "f0YNHmT986yV"
      },
      "source": [
        "Сгруппируем таблицу spb_general по жанру, сосчитаем численность композиций каждого жанра методом count(), отсортируем в порядке убывания и сохраним результат в таблице spb_genres.\n",
        "\n",
        "Просматриваем первые 10 строк этой таблицы. Теперь можно сравнивать два города.\n"
      ]
    },
    {
      "cell_type": "code",
      "execution_count": 36,
      "metadata": {
        "id": "dtkambZq86yV"
      },
      "outputs": [],
      "source": [
        "spb_genres = spb_general.groupby('genre')['genre'].count().sort_values(ascending=False)"
      ]
    },
    {
      "cell_type": "code",
      "execution_count": 37,
      "metadata": {
        "colab": {
          "base_uri": "https://localhost:8080/"
        },
        "id": "BfHH3aLR86yV",
        "outputId": "3b36164e-b643-4b77-d08c-3e18d3633b81"
      },
      "outputs": [
        {
          "output_type": "stream",
          "name": "stdout",
          "text": [
            "genre\n",
            "pop            2431\n",
            "dance          1932\n",
            "rock           1879\n",
            "electronic     1736\n",
            "hiphop          960\n",
            "alternative     649\n",
            "classical       646\n",
            "rusrap          564\n",
            "ruspop          538\n",
            "world           515\n",
            "Name: genre, dtype: int64\n"
          ]
        }
      ],
      "source": [
        "print(spb_genres.head(10))\n"
      ]
    },
    {
      "cell_type": "markdown",
      "metadata": {
        "id": "nIVra8VU86yV"
      },
      "source": [
        "## Вывод\n",
        "В Москве, кроме абсолютно популярного жанра поп, есть направление русской популярной музыки. Значит, что интерес к этому жанру шире. А рэп, вопреки предположению, занимает в обоих городах близкие позиции.\n"
      ]
    },
    {
      "cell_type": "markdown",
      "metadata": {
        "id": "2OBVd4cM86yV"
      },
      "source": [
        "# Результаты исследования\n",
        "\n",
        "Рабочие гипотезы:\n",
        "\n",
        "•\tмузыку в двух городах — Москве и Санкт-Петербурге — слушают в разном режиме;\n",
        "\n",
        "•\tсписки десяти самых популярных жанров утром в понедельник и вечером в пятницу имеют характерные отличия;\n",
        "\n",
        "•\tнаселение двух городов предпочитает разные музыкальные жанры.\n",
        "\n",
        "**Общие результаты**\n",
        "\n",
        "Москва и Петербург сходятся во вкусах: везде преобладает популярная музыка. При этом зависимости предпочтений от дня недели в каждом отдельном городе нет — люди постоянно слушают то, что им нравится. Но между городами в разрезе дней неделей наблюдается зеркальность относительно среды: Москва больше слушает в понедельник и пятницу, а Петербург наоборот - больше в среду, но меньше в понедельник и пятницу.\n",
        "В результате: первая гипотеза о том, что музыку в двух городах слушают в разном режиме, подтверждена.\n",
        "Вторая гипотеза о том, что списки популярных жанров в разные дни недели различаются, также подтверждена.\n",
        "Третья гипотеза о том, что музыкальные предпочтения населения двух городов сильно отличаются, не подтверждена, так как поп-музыка лидирует в обоих городах.\n",
        "Эти выводы отражают как схожесть, так и различия музыкальных предпочтений между Москвой и Санкт-Петербургом, особенно в зависимости от времени недели и социальных факторов."
      ]
    },
    {
      "cell_type": "code",
      "execution_count": null,
      "metadata": {
        "id": "NqHAxgty86yW"
      },
      "outputs": [],
      "source": []
    },
    {
      "cell_type": "code",
      "execution_count": null,
      "metadata": {
        "id": "5Lzb5ywx86yW"
      },
      "outputs": [],
      "source": []
    }
  ],
  "metadata": {
    "kernelspec": {
      "display_name": "Python 3 (ipykernel)",
      "language": "python",
      "name": "python3"
    },
    "language_info": {
      "codemirror_mode": {
        "name": "ipython",
        "version": 3
      },
      "file_extension": ".py",
      "mimetype": "text/x-python",
      "name": "python",
      "nbconvert_exporter": "python",
      "pygments_lexer": "ipython3",
      "version": "3.9.12"
    },
    "colab": {
      "provenance": []
    }
  },
  "nbformat": 4,
  "nbformat_minor": 0
}